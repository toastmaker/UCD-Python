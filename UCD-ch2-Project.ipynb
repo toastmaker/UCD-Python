{
 "metadata": {
  "name": "UCD-ch2-Project"
 },
 "nbformat": 3,
 "nbformat_minor": 0,
 "worksheets": [
  {
   "cells": [
    {
     "cell_type": "markdown",
     "metadata": {},
     "source": "#Lesson 2: Project management\n\nhttps://dl.dropboxusercontent.com/u/1465532/UCD-ch2-Project.py\n    \nhttp://git-scm.com"
    },
    {
     "cell_type": "markdown",
     "metadata": {},
     "source": "#Style\n\n- ***Scientists regularly do programming but a few have been trained to do so.***\n- Programmer/Scientist time is more valuable than computer time\n\n\n- **KIS** (Keep It Simple)\n  - Start simple, with something that works, and then improve it. Write only what you need now.\n  - Identify emerging patterns and continuously adapt the structure of your code (refactoring).\n  - Resist the urge to over-engineer! Overengineering and unstructured code both violate this.\n  - Start simple (with something that works), and then improve it - __refactoring__.\n  - Simple is better than complex, Complex is better than complicated\n  - Often need to try out different ideas quickly: rapid prototyping of a proposed algorithm re-use/modify existing code\n\n- **DRY** (Don't Repeat Yourself) - code duplication equals bug reuse\n    - avoid duplication: Copy-and-paste a snippet, instead of refactoring it into a function\n    - use modules\n    - Special cases aren\u2019t special enough to break the rules\n    - What happens if the original code contains a bug?\n    - What happens if the original code needs to be changed?\n    - **Invest time now to save time later!** (especially when facing oh so important deadlines)\n\n- Readability\n\n- Zen of Python: *Explicit is better then implicit, Beautiful is better than ugly*\n\n- Use exceptions\n\n- Identify emerging patterns and continuously adapt the structure of your code\n    - *Design Patterns. Elements of Reusable Object-Oriented Software* (1995), written by the *Gang of Four*\n    - Easier to read: *Head First Design Pattens* that uses Java\n\n- Agile programming\n    - Waterfall programming (1970) requirements -> design -> implementation -> Testing ->  -> maintenance\n    - Agile Programming (2013) loop: {requirements -> design -> implementation -> Testing } -> maintenance\n    - Particularly suited for\n        - small teams (Fewer than 10 people)\n        - Unpredictable or rapidly changing requirements, adaptive\n\n- Pair programming: two at one, navigator and driver. Then swap.\n\n- Don't use _import *_ unless you are using the interpreter \n\n    - Code is hard to read\n    - Modules may overwrite each other\n    - You will import everything in a module\n\n- Put all imports at the beginning of the file\n\n- Don't reinvent the wheel. someone has probably already done a better job than\nyour first (and probably second) attempt\n\n\n\ufffc\nProfiler\nA tool to measure and provide statistics on the execution of code.\ntimeit cProfile line profiler\nViewer\nViewers display the profiler output, usually a call-graph\ngprof2dot\nrun snake run kcachegrind\n"
    },
    {
     "cell_type": "code",
     "collapsed": false,
     "input": "import this",
     "language": "python",
     "metadata": {},
     "outputs": [
      {
       "output_type": "stream",
       "stream": "stdout",
       "text": "The Zen of Python, by Tim Peters\n\nBeautiful is better than ugly.\nExplicit is better than implicit.\nSimple is better than complex.\nComplex is better than complicated.\nFlat is better than nested.\nSparse is better than dense.\nReadability counts.\nSpecial cases aren't special enough to break the rules.\nAlthough practicality beats purity.\nErrors should never pass silently.\nUnless explicitly silenced.\nIn the face of ambiguity, refuse the temptation to guess.\nThere should be one-- and preferably only one --obvious way to do it.\nAlthough that way may not be obvious at first unless you're Dutch.\nNow is better than never.\nAlthough never is often better than *right* now.\nIf the implementation is hard to explain, it's a bad idea.\nIf the implementation is easy to explain, it may be a good idea.\nNamespaces are one honking great idea -- let's do more of those!\n"
      }
     ],
     "prompt_number": 1
    },
    {
     "cell_type": "markdown",
     "metadata": {},
     "source": "#Documentation\n- Use comments, docstrings\n- _epydoc_, _sphinx_"
    },
    {
     "cell_type": "code",
     "collapsed": false,
     "input": "def my_product(numbers):\n    \"\"\" Compute the product of a sequence of numbers.\n    Parameters\n    ----------\n    numbers : sequence\n        list of numbers to multiply\n    Returns\n    -------\n    product : number\n        the final product\n    Raises\n    ------\n    TypeError\n        if argument is not a sequence or sequence contains\n        types that can\u2019t be multiplied\n\n    \"\"\"  \n    total = 1  \n    for item in numbers:  \n        total *= item  \n    return total\n\ntry:\n    print my_product([1,2,3])\n    #my_product([\u2019abc\u2019, 1])\nexcept TypeError:\n    print \"\u2019my_product\u2019 failed due to a \u2019TypeError\u2019\"\nhelp(my_product)",
     "language": "python",
     "metadata": {},
     "outputs": [
      {
       "output_type": "stream",
       "stream": "stdout",
       "text": "6\nHelp on function my_product in module __main__:\n\nmy_product(numbers)\n    Compute the product of a sequence of numbers.\n    Parameters\n    ----------\n    numbers : sequence\n        list of numbers to multiply\n    Returns\n    -------\n    product : number\n        the final product\n    Raises\n    ------\n    TypeError\n        if argument is not a sequence or sequence contains\n        types that can\u2019t be multiplied\n\n"
      }
     ],
     "prompt_number": 2
    },
    {
     "cell_type": "markdown",
     "metadata": {},
     "source": "#Tests\n\n- scientist should trust the code\n- once you have what to test you should test\n- build tests up gradually\n\n##Unittests\n\n_unittest_\n\n- very powerful\n- very useful\n- run automatically all routines that start with *test_*\n- not much discussed here today...\n- drawback: you spend almost equal time on coding and testing. (The programmers would tell you it should always be like this...)"
    },
    {
     "cell_type": "markdown",
     "metadata": {},
     "source": "    import unittest\n    class FirstTestCase(unittest.TestCase):\n        def test_truisms(self):\n            self.assertTrue(True)\n            self.assertFalse(False)\n        \n        def test_math(self):\n            x = -1.234\n            self.assertTrue(x**2 >= 0)\n            \n    class SecondTestCase(unittest.TestCase):\n        def test_approximation(self):\n            self.assertAlmostEqual(1.1, 1.15, 1)\n            \n    class ThirdTestCase(unittest.TestCase):\n        def test_time_elapsed(self):\n            first_timestamp = datetime.datetime.now()\n            for i in range(100000):\n                j = i**1.01*(i-1.)*(i-1)/(i+1)**1.4\n            delta = datetime.timedelta(seconds=1)\n            second_timestamp = datetime.datetime.now()\n            self.assertAlmostEqual(first_timestamp, second_timestamp, delta=delta)\n\n    if __name__ == '__main__':\n        # execute all TestCases in the module\n        unittest.main()\n        \n    $> python test-ex.py\n    ....\n    ----------------------------------------------------------------------\n    Ran 4 tests in 0.063s\n    \n    OK"
    },
    {
     "cell_type": "markdown",
     "metadata": {},
     "source": "Let's increase the number of loop 100x\n\n    $> python test-ex.py \n    ...F\n    ======================================================================\n    FAIL: test_time_elapsed (__main__.ThirdTestCase)\n    ----------------------------------------------------------------------\n    Traceback (most recent call last):\n      File \"test-ex.py\", line 20, in test_time_elapsed\n        self.assertAlmostEqual(first_timestamp, second_timestamp, delta=delta)\n    AssertionError: datetime.datetime(2013, 4, 7, 10, 41, 26, 775574) != datetime.datetime(2013, 4, 7, 10, 41, 32, 736426) within datetime.timedelta(0, 1) delta\n    \n    ----------------------------------------------------------------------\n    Ran 4 tests in 6.387s\n    \n    FAILED (failures=1)"
    },
    {
     "cell_type": "code",
     "collapsed": false,
     "input": "def sq(n):\n    \"\"\"\n    Returns the square of n, accepting all numeric types:\n\n    >>> sq(10)\n    100\n\n    >>> sq(10.434)\n    108.86835599999999\n\n    Raises a TypeError when input is invalid:\n\n    >>> sq(4*'435')\n    Traceback (most recent call last):\n      ...\n    TypeError: can't multiply sequence by non-int of type 'str'\n\n    \"\"\"\n    return n*n\n\nhelp(sq)",
     "language": "python",
     "metadata": {},
     "outputs": [
      {
       "output_type": "stream",
       "stream": "stdout",
       "text": "Help on function sq in module __main__:\n\nsq(n)\n    Returns the square of n, accepting all numeric types:\n    \n    >>> sq(10)\n    100\n    \n    >>> sq(10.434)\n    108.86835599999999\n    \n    Raises a TypeError when input is invalid:\n    \n    >>> sq(4*'435')\n    Traceback (most recent call last):\n      ...\n    TypeError: can't multiply sequence by non-int of type 'str'\n\n"
      }
     ],
     "prompt_number": 3
    },
    {
     "cell_type": "markdown",
     "metadata": {},
     "source": "##Doctest\n\n    import doctest\n    import module_name\n    doctest.testmod(module_name)\n\nOr from a command line\n\n    python -m doctest -v sq.py\n    \n    Trying:\n      sq(10)\n    Expecting:\n      100\n    ok\n    Trying:\n      sq(10.434)\n    Expecting:\n      108.86835599999999\n    ok\n    Trying:\n      sq(4*'435')\n    Expecting:\n      Traceback (most recent call last):\n      ...\n      TypeError: cannot multiply sequence by non-int of type 'str'\n    ok\n    1 items had no tests:\n      sq\n    1 items passed all tests:\n    3 tests in sq.sq\n    3 tests in 2 items.\n    3 passed and 0 failed.\n    Test passed."
    },
    {
     "cell_type": "markdown",
     "metadata": {},
     "source": "#Git version control (sometimes misreffered as versioning)\n\nCommon problems:\n    \n- \"Help! My code worked yesterday, but I can\u2019t recall what I changed.\"\n- \"We would like to work together, but we don\u2019t know how!\"\n\nWhat is it good for?\n\n- Checkpoint significant improvements, for example releases\n- Document developer effort\n- Who changed what, when and why?\n- Use version control for anything that\u2019s text Code (Thesis/Papers Letters)\n- Easy collaboration across the globe\n\nWhy version controlling for a single developer or a local repository?\n\n- Backup.\n- Keep memory of your work and keeps track of all changes in revertable way.\n- First step towards a shared project.\n\nThere are many:\n    \n- cvs\n- bazaar\n- subversion\n- __git__\n\nTutorials:\n    \n- [http://git-scm.com/book](http://git-scm.com/book)\n- [http://try.github.com/levels/1/challenges/1](http://try.github.com/levels/1/challenges/1) 15 minutes to learn git\n\nThree areas:\n    \n- working directory\n- staging area\n- master\n\nRemote/online repositoy adds:\n\n- extra area: remote master\n- multiple users, each has a local copy of the whole branch, this usually makes a but mess when merging\n\n![git-image](files/git.png) \n\nAvailable transport protocols:\n\nssh://, git://, http://, https://, file://\n\n    git clone git://github.com/hanke/PyMVPA\n\nAdvantages of _git_:\n    \n- free\n- designed by Linus\n- online repository *github*\n- not centralised\n- once you have learned git, you would easily learn any other VC"
    },
    {
     "cell_type": "markdown",
     "metadata": {},
     "source": "##Git commands\n    git config --global user.name \"Martin Topinka\" # --global sets git for all projects\n    git config --global user.email \"martin.topinka@ucd.ie\"\n    git init # in desired directory\n    git add file1 file2 # from working directory to staging area), it does not add file permission info\n    git commit -m \"Message\" # from staging area to master\n    git commit -a # records all changes in working dir and staging area\n    git commit README -m \"README added.\"\n    git log # Displays log\n    git diff # difference between working dir and staging area\n    git diff --cached # Shows differences between index and last commit (HEAD).\n    git checkout file # from staging to work\n    git checkout dbb4929 # Every commit is a git object. The history of a project is a graph of objects referenced by a unique 40-digit git-name: SHA1(object).\n    git checkout master\n    git status # Show what's up\n    git reset --hard HEAD # Careful, reset can destroy history!\n    git rm file\n    git mv old new\n    git commit -m \"File (re)moved\"\n    # \n    # remote master\n    # \n    git push\n    git fetch # to local remote master, git merge necessary, merge only when all changes are commited, conflicts\n    git merge # from remote, may generate conflicts!\n    git pull # git fetch + git merge\n    git clone url # creates TWO local copies of the whole remote repository\n    git remote -v # \ufffcShows name and URL of the remote repository"
    },
    {
     "cell_type": "markdown",
     "metadata": {},
     "source": "    file: .gitingore\n\n    .DS_Store\n    *.pyc"
    },
    {
     "cell_type": "markdown",
     "metadata": {},
     "source": "##Git demo\n\n    # git demo. Single developer and local repository.\n\n    # First we move to a safe place:\n    cd ${HOME}/tmp/\n\n    # Run git. It's harmless :-)\n    git\n    # Ask git what it knows about this or parent directories:\n    git status\n\n    # Introduce yourself to git:\n    git config --global user.name \"Martin Topinka\"\n    git config --global user.email \"martin.topinka@ucd.ie\"\n    # ... and check it:\n    git config user.name\n    git config user.email\n    git config -l\n\n    # Move to the directory where we want to do VC:\n    mkdir /tmp/demo_git_single_local\n    cd /tmp/demo_git_single_local\n\n    # Create a git repository within the current directory:\n    git init\n    # Verify that you have a brand new \".git/\" directory:\n    ls -al .\n    # ...full of interesting things...:\n    ls -al .git/\n    # Ask git about the current directory:\n    git status\n\n    # Create a file named hello.py \n    echo \"print 'hello.'\" > hello.py\n    # ...check status:\n    git status\n    # and then put hello.py under git VC.\n    # First add hello.py to the staging area:\n    git add hello.py\n    # Check how the status changes:\n    git status\n\n    # Now record changes to the master area:\n    git commit -m \"My first commit. A big step for the mankind.\"\n\n    # Check status again, it is instructive:\n    git status\n\n    # Edit hello.py some more:\n    echo \"import numpy as np\" >> hello.py\n    echo \"print np.random.rand(3)\" >> hello.py\n\n    # See how the status changes accordingly:\n    git status\n\n    # show changes between current files and staged files:\n    git diff\n\n    # Add changes into the staging area (index):\n    git add hello.py\n    # show how the status changes accordingly:\n    git status\n\n    # Edit again hello.py\n    echo \"print np.eye(4)\" >> hello.py\n\n    # Commit changes from the staging area (only):\n    git commit -m \"Added printout of 3 random numbers.\"\n\n    # Verify that changes not added to the staging area were not recorded:\n    git diff\n\n    # Commit all changes of hello.py skipping the staging area step:\n    git commit hello.py -m \"Added beautiful eyes.\"\n\n    # Edit hello.py again and create more files:\n    echo \"print np.subtract.outer(np.random.rand(3),np.random.rand(2))\" >> hello.py\n    echo \"import time\" > clock.py\n    echo \"print time.ctime()\" >> clock.py\n\n    # inspect changes before commits:\n    git status\n    git diff\n\n    # commit all changes made in all files skipping staging area:\n    git add clock.py\n    git commit -a -m \"Added a Swiss clock and improved hello.py.\"\n\n    # See the logs of all commits:\n    git log\n\n    # Get crazy and mess with your files:\n    echo \"printttt 'I hate you...'\" > hello.py\n    rm clock.py\n\n    # Oh no! What I've done! Shame on me!\n    git status\n    git diff\n    # Relax buddy... you are using git :-)\n    # Get rid of the last untracked changes:\n    git checkout .\n    ls\n    git status\n    git diff"
    },
    {
     "cell_type": "markdown",
     "metadata": {},
     "source": "##Debugging\n\n*Every code has a bug...*\n\nUse debuger, except the trivial cases, it's much more powerful than messing up the code extra print commands\n\n    import pdb\n    some code\n    pdb.set_trace()\n    \n    $> python -m pdb buggy_code.py\n    \n    Once in the debugger mode you can use\n    \n    b 30 # set breakpoint to the line 30\n    n # run next line of the code\n    l # list the code around \n    <ENTER> # repeats the previous command\n    s # enters the subroutine/function\n    p a # print variable a\n    a = 4 # set variable value\n    d = a*b # run any command, or expression\n    q # quit the program and the debugger\n    c # continue until next breakpoint occurs or end of code\n    !cmd # force a Python command"
    },
    {
     "cell_type": "markdown",
     "metadata": {},
     "source": "##Timing\n\n    from timeit import Timer\n\n    # execute 1 million times, return elapsed time(sec)\n    Timer(\"module.function(arg1, arg2)\", \"import module\").timeit()\n\n    # more detailed control of timing\n    t = Timer(\"module.function(arg1, arg2)\", \"import module\")\n    # make three measurements of timing, repeat 2 million times\n    t.repeat(3, 2000000)\n\nfrom command line:\n    \n    $> python -m timeit script.py\n    \nIn iPython:\n\n    %timeit"
    },
    {
     "cell_type": "code",
     "collapsed": false,
     "input": "# Basic timing in code\nimport time\nfrom math import sin, cos, exp\n\ndef extensive_f(x,y):\n    for i in range(1000000):\n        result = y*x+i*(abs(sin(x)-cos(y)))**1.1/(x**1.2+y**-1.1)-exp(0.01)\n\nstart = time.clock()\nstart_t = time.time()\nextensive_f(1.3,5.5)\nend = time.clock()\nend_t = time.time()\nelapsed = end - start\nelapsed_t = end_t - start_t\nprint elapsed, \" CPU time\"\nprint elapsed_t, \"s\"",
     "language": "python",
     "metadata": {},
     "outputs": [
      {
       "output_type": "stream",
       "stream": "stdout",
       "text": "1.221568  CPU time\n1.210283041 s\n"
      }
     ],
     "prompt_number": 4
    },
    {
     "cell_type": "markdown",
     "metadata": {},
     "source": "#Profiling\n\n    python -m cProfile -o <outputfilename> -s time <script-name> <options>\n    import cProfile\n    command = \"\"\"reactor.run()\"\"\"\n    cProfile.runctx( command, globals(), locals(), filename=\"OpenGLContext.profile\" )\n\n    import yappi\n    def foo():\n        for i in range(10000000):\n            pass\n    yappi.start()\n    foo()\n    yappi.print_stats()\n    \n\nname                                 #n            tsub      ttot      tavg\ntt.py.foo:4                          1             0.328125  0.328125  0.328125\n\nname           tid           fname                      ttot      scnt\n_MainThread    6288          ..y.enum_thread_stats:123  0.453125  1\n"
    },
    {
     "cell_type": "markdown",
     "metadata": {},
     "source": "##Refactoring\n\n- Re-organisation of your code without changing its function\n- Increase modularity by breaking large code blocks apart\n- Don't touch what works :-)"
    },
    {
     "cell_type": "code",
     "collapsed": false,
     "input": "import numpy as np\nprint np.array([1,2,3]).prod()",
     "language": "python",
     "metadata": {},
     "outputs": []
    },
    {
     "cell_type": "markdown",
     "metadata": {},
     "source": "#Exersises 2:\n\n1) setup git, make your first commit, add new file to the project, edit something, commit again, revert to a previous version\n\n2) write docstring documentation to a program you wrote yesterday"
    },
    {
     "cell_type": "markdown",
     "metadata": {},
     "source": "- - -\n- - -"
    }
   ],
   "metadata": {}
  }
 ]
}
{
 "metadata": {
  "name": "UCD-ch6-speed"
 },
 "nbformat": 3,
 "nbformat_minor": 0,
 "worksheets": [
  {
   "cells": [
    {
     "cell_type": "markdown",
     "metadata": {},
     "source": "#Lesson 6: Need for Speed\n\nhttps://dl.dropboxusercontent.com/u/1465532/UCD-ch6-speed.py"
    },
    {
     "cell_type": "markdown",
     "metadata": {},
     "source": "###Python may seem slow\n\n- interpreter\n- object oriented\n- memory garbage collector \n- dynamic typing language\n- Python does not preallocate memory"
    },
    {
     "cell_type": "markdown",
     "metadata": {},
     "source": "##Speed it up!\n\n![image](files/speedcar.jpg)\n\n- Optimization where needed\n- profiling\n- inlining\n- Be aware about existing libraries. It is pretty difficult to beat performance professionals!"
    },
    {
     "cell_type": "markdown",
     "metadata": {},
     "source": "###numpy\n\n- use *numpy* vectors instead of tuples\n- Use NumPy functions instead of Python ones\n- \"vectorize\" operations on (>= 1D) data types.\n- avoid for loops, use single-shot operations\n- pre-allocate arrays instead of repeated concatenation (use **numpy.zeros**, **numpy.empty**, etc..)\n- keep in mind that _numpy_ stores arrays by rows"
    },
    {
     "cell_type": "code",
     "collapsed": false,
     "input": "# trottle way\n\ndef loop(N):\n    c = []\n    for i in xrange(N):\n        c.append(i*(i+1))\n    return c\n\n%timeit loop(1000000)",
     "language": "python",
     "metadata": {},
     "outputs": [
      {
       "output_type": "stream",
       "stream": "stdout",
       "text": "1 loops, best of 3: 205 ms per loop\n"
      }
     ],
     "prompt_number": 79
    },
    {
     "cell_type": "code",
     "collapsed": false,
     "input": "import numpy as np\n\ndef loop_numpy(N):\n    i = np.arange(N)\n    return i*(i+1)\n\n%timeit loop_numpy(1000000)",
     "language": "python",
     "metadata": {},
     "outputs": [
      {
       "output_type": "stream",
       "stream": "stdout",
       "text": "100 loops, best of 3: 9.95 ms per loop\n"
      }
     ],
     "prompt_number": 80
    },
    {
     "cell_type": "code",
     "collapsed": false,
     "input": "import numpy as np\n\na = np.random.random((5000,5000))\n%timeit a[:,1].sum()\n%timeit a[1,:].sum()",
     "language": "python",
     "metadata": {},
     "outputs": [
      {
       "output_type": "stream",
       "stream": "stdout",
       "text": "10000 loops, best of 3: 74.9 \u00b5s per loop\n100000 loops, best of 3: 13 \u00b5s per loop"
      },
      {
       "output_type": "stream",
       "stream": "stdout",
       "text": "\n"
      }
     ],
     "prompt_number": 81
    },
    {
     "cell_type": "code",
     "collapsed": false,
     "input": "import numpy as np\na = np.random.random((5000,5000))\n%timeit a.sum(axis=1)\n%timeit a.sum(axis=0)",
     "language": "python",
     "metadata": {},
     "outputs": [
      {
       "output_type": "stream",
       "stream": "stdout",
       "text": "10 loops, best of 3: 27.4 ms per loop\n10 loops, best of 3: 21.1 ms per loop"
      },
      {
       "output_type": "stream",
       "stream": "stdout",
       "text": "\n"
      }
     ],
     "prompt_number": 82
    },
    {
     "cell_type": "code",
     "collapsed": false,
     "input": "# loadtxt, savetxt vs binary\nimport numpy\ndata = numpy.arange(1e7)\n\nnumpy.save('test.npy',data)\n\ndata2 = numpy.load('test.npy')\n\nnumpy.alltrue(data == data2)\na = np.linspace(0,100,1e7)\nsindata = np.sin(a)\nnp.savez(\"test.npz\",a=a,sina=sindata) # zipped version of mulitple arrays\n\nnpzfile = np.load('test.npz')\nprint npzfile['sina'][0:4]",
     "language": "python",
     "metadata": {},
     "outputs": [
      {
       "output_type": "stream",
       "stream": "stdout",
       "text": "[  0.00000000e+00   1.00000010e-05   2.00000020e-05   3.00000030e-05]\n"
      }
     ],
     "prompt_number": 83
    },
    {
     "cell_type": "markdown",
     "metadata": {},
     "source": "##numexpr\n\nhttp://code.google.com/p/numexpr/\n\n- The _numexpr_ package evaluates multiple-operator array expressions many times faster than *numpy* can.\n- It accepts the expression as a string, analyzes it, rewrites it more efficiently, and compiles it on the fly into code for its internal virtual machine (VM). Due to its integrated just-in-time (JIT) compiler, it does not require a compiler at runtime.\n- expression rearrangement\n- bypass the GIL in Python, and allows near-optimal parallel performance\n- arrays are handled in chunks\n\n- Current CPUs typically stay bored, doing nothing most of the time because they are waiting for data"
    },
    {
     "cell_type": "code",
     "collapsed": false,
     "input": "import numpy as np\nimport numexpr as ne\na = np.arange(1e6)\nb = np.arange(1e6)\nne.evaluate('a*b-4.1*a > 2.5*b')",
     "language": "python",
     "metadata": {},
     "outputs": [
      {
       "output_type": "pyout",
       "prompt_number": 84,
       "text": "array([False, False, False, ...,  True,  True,  True], dtype=bool)"
      }
     ],
     "prompt_number": 84
    },
    {
     "cell_type": "code",
     "collapsed": false,
     "input": "%timeit a**2 + b**2 + 2*a*b",
     "language": "python",
     "metadata": {},
     "outputs": [
      {
       "output_type": "stream",
       "stream": "stdout",
       "text": "10 loops, best of 3: 21 ms per loop\n"
      }
     ],
     "prompt_number": 85
    },
    {
     "cell_type": "code",
     "collapsed": false,
     "input": "# numexpr\n%timeit ne.evaluate(\"a**2 + b**2 + 2*a*b\")",
     "language": "python",
     "metadata": {},
     "outputs": [
      {
       "output_type": "stream",
       "stream": "stdout",
       "text": "100 loops, best of 3: 5.33 ms per loop\n"
      }
     ],
     "prompt_number": 86
    },
    {
     "cell_type": "code",
     "collapsed": false,
     "input": "ne.set_num_threads(1)  # using just 2 thread\n%timeit ne.evaluate(\"a**2 + b**2 + 2*a*b\")",
     "language": "python",
     "metadata": {},
     "outputs": [
      {
       "output_type": "stream",
       "stream": "stdout",
       "text": "100 loops, best of 3: 6.85 ms per loop\n"
      }
     ],
     "prompt_number": 88
    },
    {
     "cell_type": "markdown",
     "metadata": {},
     "source": "Why is _numexpr_ so fast?\n\n![image](files/memorycpu.png)"
    },
    {
     "cell_type": "markdown",
     "metadata": {},
     "source": "Limitation: _numexpr_ implements only __element-wise operations__:\n\n    for i in range(N):\n        c[i] = a[i-1] + a[i] * b[i] # This would fail with numexpr "
    },
    {
     "cell_type": "markdown",
     "metadata": {},
     "source": "##numba\n\nhttp://numba.pydata.org\n\n- __numba__ is another numpy aware dynamic compiler for Python. It creates LLVM bit-code from Python syntax and then creates a wrapper around that bitcode to call from Python"
    },
    {
     "cell_type": "markdown",
     "metadata": {},
     "source": "###Optimize\n\n- minimize the number of function calls\n- simplify the operations"
    },
    {
     "cell_type": "code",
     "collapsed": false,
     "input": "N=100000\n%timeit for x in range(N): 0.25*x**3+0.75*x**2+1.5*x-2",
     "language": "python",
     "metadata": {},
     "outputs": [
      {
       "output_type": "stream",
       "stream": "stdout",
       "text": "10 loops, best of 3: 48.9 ms per loop\n"
      }
     ],
     "prompt_number": 90
    },
    {
     "cell_type": "code",
     "collapsed": false,
     "input": "x=np.arange(N)\n%timeit 0.25*x**3+0.75*x**2+1.5*x-2",
     "language": "python",
     "metadata": {},
     "outputs": [
      {
       "output_type": "stream",
       "stream": "stdout",
       "text": "100 loops, best of 3: 2.45 ms per loop\n"
      }
     ],
     "prompt_number": 91
    },
    {
     "cell_type": "code",
     "collapsed": false,
     "input": "x=np.arange(N)\n%timeit ((0.25*x + 0.75)*x + 1.5)*x - 2",
     "language": "python",
     "metadata": {},
     "outputs": [
      {
       "output_type": "stream",
       "stream": "stdout",
       "text": "1000 loops, best of 3: 819 \u00b5s per loop\n"
      }
     ],
     "prompt_number": 92
    },
    {
     "cell_type": "code",
     "collapsed": false,
     "input": "x=np.arange(N)\n%timeit 0.25*x*x*x + 0.75*x*x + 1.5*x - 2",
     "language": "python",
     "metadata": {},
     "outputs": [
      {
       "output_type": "stream",
       "stream": "stdout",
       "text": "1000 loops, best of 3: 1.42 ms per loop\n"
      }
     ],
     "prompt_number": 93
    },
    {
     "cell_type": "markdown",
     "metadata": {},
     "source": "###Parallelize\n\n- Computing a polynomial is _embarrassingly_ parallelizable: just divide the domain to compute in N chunks and evaluate the expression for each chunk\n- Optimizing normally can give better results than blind parallelization\n- __A serial codebase is normally much easier to code and debug__!"
    },
    {
     "cell_type": "markdown",
     "metadata": {},
     "source": "## Decorator for Memorizing function values"
    },
    {
     "cell_type": "code",
     "collapsed": false,
     "input": "def fib(i):\n    if i < 2: return 1\n    return fib(i-1) + fib(i-2)\n\nfor i in range(10):\n    print fib(i),",
     "language": "python",
     "metadata": {},
     "outputs": [
      {
       "output_type": "stream",
       "stream": "stdout",
       "text": "1 1 2 3 5 8 13 21 34 55\n"
      }
     ],
     "prompt_number": 94
    },
    {
     "cell_type": "code",
     "collapsed": false,
     "input": "%timeit fib(37)",
     "language": "python",
     "metadata": {},
     "outputs": [
      {
       "output_type": "stream",
       "stream": "stdout",
       "text": "1 loops, best of 3: 14.2 s per loop\n"
      }
     ],
     "prompt_number": 95
    },
    {
     "cell_type": "code",
     "collapsed": false,
     "input": "# decorators\n\nfrom functools import wraps\n\ndef memo(func):\n    cache = {}\n    @wraps(func)\n    def wrap(*args):\n        if args not in cache:\n            cache[args] = func(*args)\n        return cache[args]\n    return wrap\n\nfib = memo(fib)\n%timeit fib(37)",
     "language": "python",
     "metadata": {},
     "outputs": [
      {
       "output_type": "stream",
       "stream": "stdout",
       "text": "1000000 loops, best of 3: 330 ns per loop\n"
      }
     ],
     "prompt_number": 96
    },
    {
     "cell_type": "markdown",
     "metadata": {},
     "source": "- Caching/hashing function values in a table can speed up the code like a hell...\n- * and ** is argument unpacking, resp. keyword argument unpacking"
    },
    {
     "cell_type": "code",
     "collapsed": false,
     "input": "def arg_unpack(*x):\n    for i in range(len(x)):\n        print x[i]\n\ndef three_args(a,b,c):\n    return a+b+c\n        \na = (1,2,3)\narg_unpack(*a)\nthree_args(*a)",
     "language": "python",
     "metadata": {},
     "outputs": [
      {
       "output_type": "stream",
       "stream": "stdout",
       "text": "1\n2\n3\n"
      },
      {
       "output_type": "pyout",
       "prompt_number": 98,
       "text": "6"
      }
     ],
     "prompt_number": 98
    },
    {
     "cell_type": "code",
     "collapsed": false,
     "input": "import time\n\ndef timeit(method):\n\n    def timed(*args, **kw):\n        ts = time.time()\n        result = method(*args, **kw)\n        te = time.time()\n\n        print '%r %2.2f sec' %(method.__name__, te-ts)\n        return result\n\n    return timed\n\n@timeit\ndef func(i):\n    r = 0\n    for i in range(i): # whatever takes some time\n        i *= 0.1*i\n        r += i*(i-1)/(i**0.1+1) - i**2*(i-1)/(i**0.1+1)\n    return r\n\nfunc(2000000)",
     "language": "python",
     "metadata": {},
     "outputs": [
      {
       "output_type": "stream",
       "stream": "stdout",
       "text": "'func' 2.31 sec\n"
      },
      {
       "output_type": "pyout",
       "prompt_number": 99,
       "text": "-1.2150858487756118e+39"
      }
     ],
     "prompt_number": 99
    },
    {
     "cell_type": "markdown",
     "metadata": {},
     "source": "##Cython\n\nhttp://www.cython.org\n\nMotivation:\n\n- need for a Python compiler\n- the point is to speed up an existing Python app one function not rewriting the whole application in C\n- keep coding in Python (or, at least, a superset) but with the speed advantage of C\n\n![image](files/cython-motivation.png)\n\nWe get:\n\n- Wrap existing C and C++ code\n- Breaking out of the Global Interpreter Lock; openmp\n- Mixing C and Python, but without the pain of the Python C API\n\nThe process:\n    \n- Cython code must, unlike Python, be **compiled**\n- A *.pyx* file is compiled by **Cython** to a *.c* file, containing the code of a Python extension module\n- The *.c* file is compiled by a **C compiler** to a *.so* file which can be imported into a Python code\n\nThere are several ways to build Cython code:\n\n- Write a _distutils setup.py_ (included in _python-setuptools_ package)\n- Use pyximport, importing Cython .pyx files as if they were .py files (using distutils to compile and build the background).\n- Run the cython command-line utility manually to produce the .c file from the .pyx file, then manually compiling the .c file into a shared object library suitable for import from Python.\n\n*hello.pyx:*\n\n    def say_hello_to(name):\n      print(Hello %s!\" % name)\n\n*setup.py*:\n\n    from distutils.core import setup\n    from distutils.extension import Extension\n    from Cython.Distutils import build_ext\n    ext_modules = [Extension(\"hello\", [\"hello.pyx\"])]\n    setup(\n      name = \u2019Hello world app\u2019,\n      cmdclass = {\u2019build_ext\u2019: build_ext},\n      ext_modules = ext_modules\n    )\n\nrun\n\n    $> python setup.py build_ext --inplace\n\nThen in Python:\n\n    from hello import say_hello_to\n    say_hello_to(\"Toast\")"
    },
    {
     "cell_type": "markdown",
     "metadata": {},
     "source": "Edges and flaws:\n\n- Good that it's still Python \n- Python function calls can be expensive, and this is especially true in Cython because one might need to convert to and from Python objects to do the call.\n- Therefore Cython provides a syntax for declaring a C-style function, the *cdef* keyword:"
    },
    {
     "cell_type": "markdown",
     "metadata": {},
     "source": "###cdef\nclass extension types **cdef**:\n    \n- restricted compared to Python classes\n- but are generally more memory efficient\n- faster than generic Python classes (it use a C struct to store their fields and methods instead of a Python dict)\n- This allows them to store arbitrary C types in their fields without requiring a Python wrapper for them\n- *cdef* give the compiler a hint about the types"
    },
    {
     "cell_type": "markdown",
     "metadata": {},
     "source": "    cdef:\n        int i = 0\n        double p"
    },
    {
     "cell_type": "markdown",
     "metadata": {},
     "source": "### Call internal C function\n\n    cdef extern from \"math.h\":\n      double sin(double)\n        \n    cdef double f(double x):\n      return sin(x*x)"
    },
    {
     "cell_type": "markdown",
     "metadata": {},
     "source": "    cdef double f(double) except -1: # on error behaviour, returns -1\n      return x**2\n    \n    cdef double f(double) except *: # on error behaviour, returns PyErr_Ocurred() exception\n      return sin(x**2)"
    },
    {
     "cell_type": "markdown",
     "metadata": {},
     "source": "- A side-effect of *cdef* is that the function is no longer available from Python-space, as Python wouldn\u2019t know how to call it. Using the **cpdef** keyword instead of *cdef*, a Python wrapper is also created, so that the function is available both from Cython (fast, passing typed values directly) and from Python (wrapping values in Python objects)."
    },
    {
     "cell_type": "markdown",
     "metadata": {},
     "source": "    cdef class SinOfSquareFunction(Function):\n      cpdef double evaluate(self, double x) except *:\n        return sin(x**2)"
    },
    {
     "cell_type": "markdown",
     "metadata": {},
     "source": "###Numerical integration\n\nCalculate a numerical (read approximation) integration $\\int_a^b f(x) dx$ summing up N rectangles below *f*"
    },
    {
     "cell_type": "code",
     "collapsed": false,
     "input": "from __future__ import division\n\ndef f(x):\n    return x**4 - 3 * x\n\ndef integrate_f(a, b, N):\n    \"\"\"Rectangle integration of a function.\n\n    Parameters\n    ----------\n    a, b : ints\n        Interval over which to integrate.\n    N : int\n        Number of intervals to use in the discretisation.\n\n    \"\"\"\n    s = 0\n    dx = (b - a) / N\n    for i in range(N):\n        s += f(a + i * dx)\n    return s * dx",
     "language": "python",
     "metadata": {},
     "outputs": [],
     "prompt_number": 105
    },
    {
     "cell_type": "code",
     "collapsed": false,
     "input": "integrate_f(2,5,1000)",
     "language": "python",
     "metadata": {},
     "outputs": [
      {
       "output_type": "pyout",
       "prompt_number": 102,
       "text": "586.2003509999921"
      }
     ],
     "prompt_number": 102
    },
    {
     "cell_type": "markdown",
     "metadata": {},
     "source": "generate C-code:\n    \n    cython integrate.pyx\n\nif interested what is happening behind the scenes:\n\n    cython -a filename.pyx\n\ncompile by hand:\n    \n    gcc -O2 -fPIC -I/usr/include/python2.7 -c integrate.c -o integrate_compiled.o\n    \nor rather create the *setup.py* file\n    \n    from distutils.core import setup\n    from distutils.extension import Extension\n    from Cython.Distutils import build_ext\n\n    setup(\n      cmdclass = { 'build_ext': build_ext },\n      ext_modules = [ Extension( \"integrate\", [ \"integrate.pyx\" ]) ]\n    )\n\nthen run:\n        \n    $> python setup.py build_ext -i  # build extensions 'in-place'\udbff*"
    },
    {
     "cell_type": "markdown",
     "metadata": {},
     "source": "Give Cython a hint about the types providing C-types:\n\n    from __future__ import division\n    def f( double x ):\n      return x**4 - 3 * x\n\n    def integrate_f( double a, double b, int N ): \"\"\"Rectangle integration of a function.\"\"\"\n      cdef:\n        double s = 0\n        double dx = (b - a) / N\n        size_t i\n        \n      for i in range(N):\n        s += f(a + i * dx)\n      return s * dx"
    },
    {
     "cell_type": "markdown",
     "metadata": {},
     "source": "![image](files/cython-layers.png)"
    },
    {
     "cell_type": "markdown",
     "metadata": {},
     "source": "Move functions to the \"C-space\" and rewrite the function:\n\n    # cython: cdivision=True\n    \n    cdef double f(double x):\n      return x*x*x*x - 3 * x\n\n    def integrate_f(double a, double b, int N):\n      cdef:\n        double s = 0\n        double dx = (b - a) / N\n        size_t i\n\n      for i in range(N):\n        s += f(a + i * dx)\n      return s * dx"
    },
    {
     "cell_type": "markdown",
     "metadata": {},
     "source": "for more compiler directives: http://wiki.cython.org/enhancements/compilerdirectives"
    },
    {
     "cell_type": "markdown",
     "metadata": {},
     "source": "### On Earth walking distance"
    },
    {
     "cell_type": "code",
     "collapsed": false,
     "input": "# example for on earth distance between two points on a sphere\n\nimport math\n\ndef earth_dist(lon1,lat1,lon2,lat2):\n    radius = 6.371\n    x = math.pi/180.0\n\n    a = (90.0-lat1)*(x)\n    b = (90.0-lat2)*(x)\n    theta = (lon2-lon1)*(x)\n    c = math.acos((math.cos(a)*math.cos(b)) + (math.sin(a)*math.sin(b)*math.cos(theta)))\n    return radius*c\n\nprint earth_dist(-72.345, 34.323, -61.823, 54.826)",
     "language": "python",
     "metadata": {},
     "outputs": [
      {
       "output_type": "stream",
       "stream": "stdout",
       "text": "2.4211627037\n"
      }
     ],
     "prompt_number": 103
    },
    {
     "cell_type": "code",
     "collapsed": false,
     "input": "import timeit  \n\nlon1, lat1, lon2, lat2 = -72.345, 34.323, -61.823, 54.826\nnum = 10000000\n\nt = timeit.Timer(\"earth_dist(%f,%f,%f,%f)\"%(lon1,lat1,lon2,lat2), setup=\"import math; from __main__ import earth_dist\")\nprint \"Pure python function\", t.timeit(num), \"sec\"",
     "language": "python",
     "metadata": {},
     "outputs": [
      {
       "output_type": "stream",
       "stream": "stdout",
       "text": "Pure python function "
      },
      {
       "output_type": "stream",
       "stream": "stdout",
       "text": "17.9324839115 sec\n"
      }
     ],
     "prompt_number": 104
    },
    {
     "cell_type": "markdown",
     "metadata": {},
     "source": "earthdist1.pyx:\n\n    import math\n\n    def earth_dist(double lon1, double lat1, double lon2, double lat2):\n        cdef:\n            double radius = 6.371\n            double pi = 3.14159265\n            double x = pi/180.0\n            double a, b, theta, c\n\n        a = (90.0-lat1)*(x)\n        b = (90.0-lat2)*(x)\n        theta = (lon2-lon1)*(x)\n        c = math.acos((math.cos(a)*math.cos(b)) + (math.sin(a)*math.sin(b)*math.cos(theta)))\n        return radius*c"
    },
    {
     "cell_type": "markdown",
     "metadata": {},
     "source": "earthdist2.pyx with function taken from C-math library: \n\n    cdef extern from \"math.h\":\n        double cos(double theta)\n        double sin(double theta)\n        double acos(double theta)\n\n    def earth_dist(double lon1, double lat1, double lon2, double lat2):\n        cdef:\n            double radius = 6.371\n            double pi = 3.14159265\n            double x = pi/180.0\n            double a, b, theta, c\n\n        a = (90.0-lat1)*(x)\n        b = (90.0-lat2)*(x)\n        theta = (lon2-lon1)*(x)\n        c = acos((cos(a)*cos(b)) + (sin(a)*sin(b)*cos(theta)))\n        return radius*c"
    },
    {
     "cell_type": "markdown",
     "metadata": {},
     "source": "###Numpy compatibility\n\nDeclaring the MemoryView type:\n\n    import numpy as np\n\n    def my_function( double[:, ::1] arr ):\n        cdef double[:, ::1] = np.zeros_like(arr)\n        cdef size_t i, j\n        for i in range( arr.shape[0] ):\n            for j in range(arr.shape[1]):\n                out[i, j] = arr[i, j] * i + j\n        return np.asarray(out)\n\nDeclaring the Numpy Array type (closer to the nature of numpy): \n\n- Cython has support for fast access to NumPy arrays\n- the data type and number of dimensions should be fixed at compile-time and passed.\n- _my\\_function_ can now only be passed two-dimensional arrays containing double precision floats, but array indexing operation is much, much faster, making it suitable for numerical loops"
    },
    {
     "cell_type": "markdown",
     "metadata": {},
     "source": "    cimport numpy as cnp\n    import numpy as np\n\n    def my_fucntion( cnp.ndarray[cnp.float64, ndim=2] arr):\n        cdef  cnp.ndarray[cnp.float64, ndim = 2] out = np.zeros((100,100), dtype=np.float64)\n        cdef size_t i, j\n        for i in range(arr.shape[0]):\n            for j in range(arr.shape[1]):\n                arr[i, j] = i + j\n        return out"
    },
    {
     "cell_type": "markdown",
     "metadata": {},
     "source": "### Parallel loops\n\n    @cython.boundscheck(False)\n    @cython.wraparound(False)\n\n    ...\n    some code\n    ...\n    \n    with nogil:\n        for i in prange (N): # parallel for-loop\n            ...\n            for loop block\n            ..."
    },
    {
     "cell_type": "markdown",
     "metadata": {},
     "source": "##Swig\n\n- wrap C code to run in from Python\n\nC-module itself *fact.c*:\n\n    /* fact.c */\n    int fact(int n) {\n      if (n <= 1) return 1;\n      else return n*fact(n-1);\n    }"
    },
    {
     "cell_type": "markdown",
     "metadata": {},
     "source": "Prepare an interface file *fact.i* (analogy of header file):\n    \n    /* fact.i */\n    %module my_module\n    %{\n        /* Put header files here or function declarations like below */\n        extern int fact(int n);\n    %}\n    \n    extern int fact(int n);"
    },
    {
     "cell_type": "markdown",
     "metadata": {},
     "source": "Wrap it:\n    \n    $> swig -python -o fact__wrap.c fact.i\n    \n    $> ls *.*\n\n    fact.c\n    fact.i\n    my_module.py\n    fact_wrap.c\n    \nCompile C-source:\n    \n    $> gcc -c -fPIC -O2 -o fact.o fact.c\n    \nCompile C-wrapper (provide path to Python headers and libraries):\n    \n    gcc -c -fPIC -O2 -o fact_wrap.o \\\n    -I/System/Library/Frameworks/Python.framework/Versions/2.7/include/python2.7 \\\n    -L/System/Library/Frameworks/Python.framework/Versions/2.7/lib/python2.7 \\\n    fact_wrap.c\n    \n    $> ls *.o\n    \n    fact.o\tfact_wrap.o\n    \nLink together:\n    \n    ld -bundle -flat_namespace -undefined suppress -o _my_module.so *.o # mind the underscope\n\n    $> ls *.*\n    \n    _my_module.so\n    my_module.py\n    fact.i\n    fact.py\n    fact_wrap.c\n    fact.c\n    fact.o\n    fact_wrap.o\n\nAccess it from Python:\n\n    import my_module\n    >>> my_module.fact(10)\n    3628800"
    },
    {
     "cell_type": "markdown",
     "metadata": {},
     "source": "##Weave (scipy)\n\n- *inline()* compiles and executes C/C++ code on the fly\n- just be careful about data types, convert C bytes to Python objects"
    },
    {
     "cell_type": "code",
     "collapsed": false,
     "input": "",
     "language": "python",
     "metadata": {},
     "outputs": []
    },
    {
     "cell_type": "markdown",
     "metadata": {},
     "source": "    from scipy import weave\n    a = 3\n    ccode = r'int i; int j = a; for (i=0; i<5; i++) { j += i; printf (\"%d\\\\n\",i); } j; '\n    weave.inline(ccode, ['a'])"
    },
    {
     "cell_type": "markdown",
     "metadata": {},
     "source": "- Not very practical if the compilation itself takes more time than the execution of the code"
    },
    {
     "cell_type": "markdown",
     "metadata": {},
     "source": "## Comparison with the solver of 2D heat transfer problem"
    },
    {
     "cell_type": "code",
     "collapsed": false,
     "input": "from numpy import zeros, abs\nfrom scipy import weave\nimport numexpr as ne\nimport numpy as np\nfrom claplace import cy_update\n\ndx = 0.1\ndy = 0.1\ndx2 = 0.1\ndy2 = 0.1\n\ndef py_update(u, dx2, dy2):\n    nx, ny = u.shape\n    for i in xrange(1,nx-1):\n        for j in xrange(1, ny-1):\n            u[i,j] = ((u[i+1, j] + u[i-1, j]) * dy2 +\n                      (u[i, j+1] + u[i, j-1]) * dx2) / (2*(dx2+dy2))\n\ndef num_update(u, dx2, dy2):\n    u[1:-1,1:-1] = ((u[2:,1:-1]+u[:-2,1:-1])*dy2 +\n                    (u[1:-1,2:] + u[1:-1,:-2])*dx2) / (2*(dx2+dy2))\n\ndef expr_update(u, dx2, dy2):\n    bottom = u[2:,1:-1]\n    top = u[:-2,1:-1]\n    left = u[1:-1,2:]\n    right = u[1:-1,:-2]\n    u[1:-1,1:-1] = ne.evaluate(\"((bottom + top)*dy2 + \"\\\n                    \"(left + right)*dx2) / (2*(dx2+dy2))\")\n\ndef weave_update(u, dx, dy2):\n    code = \"\"\"\n    int i, j;\n    for (i=1; i<Nu[0]-1; i++) {\n       for (j=1; j<Nu[1]-1; j++) {\n           U2(i,j) = ((U2(i+1, j) + U2(i-1, j))*dy2 + \\\n                       (U2(i, j+1) + U2(i, j-1))*dx2) / (2*(dx2+dy2));\n       }\n    }\n    \"\"\"\n    weave.inline(code, ['u', 'dx2', 'dy2'],verbose=0)\n\n\ndef calc(N, Niter=100, func=num_update, args=()):\n    u = zeros([N, N])\n#    u[0] = 1\n#    u[N/2,N/2] = 1\n    u[4, 4] = 1.\n    u[-4, -4 ] = 2.\n    for i in range(Niter):\n        func(u,*args)\n    return u\n\nimport matplotlib.pyplot as plt\nimport time\n\nN = 120 # 150\nNiter = 1000 # 8000\nmodes = [\n        ['Pure Python', py_update, (dx2, dy2)],\n        ['NumPy', num_update, (dx2, dy2)],\n        ['Numexpr', expr_update, (dx2, dy2)],\n        ['Cython', cy_update, (dx2, dy2)],\n        ['Weave', weave_update, (dx2, dy2)]\n        ]\n\nnames = []\ntimes = []\nfor mode, update, args in modes:\n    start = time.time()\n    res = calc(N, Niter, func=update, args=args)\n    elapsed = time.time() - start\n    print \"%s: %f seconds\" % (mode, elapsed)\n    names.append(mode)\n    times.append(elapsed)\n\nplt.imshow(res)\nplt.colorbar()\nplt.show()",
     "language": "python",
     "metadata": {},
     "outputs": [
      {
       "output_type": "stream",
       "stream": "stdout",
       "text": "Pure Python: 81.575264 seconds\nNumPy: 0.176343 seconds"
      },
      {
       "output_type": "stream",
       "stream": "stdout",
       "text": "\nNumexpr: 0.214962 seconds"
      },
      {
       "output_type": "stream",
       "stream": "stdout",
       "text": "\nCython: 0.159801 seconds"
      },
      {
       "output_type": "stream",
       "stream": "stdout",
       "text": "\nWeave: 0.161881 seconds"
      },
      {
       "output_type": "stream",
       "stream": "stdout",
       "text": "\n"
      },
      {
       "output_type": "display_data",
       "png": "[encoded data removed]",
       "text": "<matplotlib.figure.Figure at 0x10c3db310>"
      }
     ],
     "prompt_number": 37
    },
    {
     "cell_type": "code",
     "collapsed": false,
     "input": "# C values\nif 'C' not in names:\n    times.append(0.163)\n    names.append('C')\n\narbitrary_x = arange( len(times))\nax = plt.subplot(111)\nplt.barh(arbitrary_x, times,  align='center', log=True)\nplt.yticks(arbitrary_x, names)\nplt.xlabel(\"Time [s]\")\nplt.show()",
     "language": "python",
     "metadata": {},
     "outputs": [
      {
       "output_type": "display_data",
       "png": "[encoded data removed]",
       "text": "<matplotlib.figure.Figure at 0x10cf55ed0>"
      }
     ],
     "prompt_number": 38
    },
    {
     "cell_type": "markdown",
     "metadata": {},
     "source": "Using Cython function already precompiled\n\nlaplace.pyx:\n\n    #cython: boundscheck=False\n    #cython: wraparound=False\n\n    cimport numpy as np\n\n    def cy_update(np.ndarray[double, ndim=2] u, double dx2, double dy2):\n        cdef unsigned int i, j\n        for i in xrange(1,u.shape[0]-1):\n            for j in xrange(1, u.shape[1]-1):\n                u[i,j] = ((u[i+1, j] + u[i-1, j]) * dy2 +\n                          (u[i, j+1] + u[i, j-1]) * dx2) / (2*(dx2+dy2))\n\nsetup.py:\n\n    from distutils.core import setup\n    from distutils.extension import Extension\n    from Cython.Distutils import build_ext\n\n    import numpy\n\n    ext = Extension(\"claplace\", [\"laplace.pyx\"],\n        include_dirs = [numpy.get_include()])\n\n    setup(ext_modules=[ext],\n        cmdclass = {'build_ext': build_ext})\n    \ncompiled as usual:\n    \n    $> python setup.py build_ext -i"
    },
    {
     "cell_type": "markdown",
     "metadata": {},
     "source": "- - -\n- - -"
    },
    {
     "cell_type": "markdown",
     "metadata": {},
     "source": "# Exersises 6:\n\n- install and run cython and do timing analysis of different versions of the on earth distance example from no modifications, over helping Cython with cdef's types to calling the goniometric functions from C instead of Python."
    }
   ],
   "metadata": {}
  }
 ]
}
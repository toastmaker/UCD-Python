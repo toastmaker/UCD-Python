{
 "metadata": {
  "name": "UCD-survey"
 },
 "nbformat": 3,
 "nbformat_minor": 0,
 "worksheets": [
  {
   "cells": [
    {
     "cell_type": "markdown",
     "metadata": {},
     "source": "#Final 'mini survey'\n\nPlease complete the survey and send it me (_martin.topinka@ucd.ie_)\n\nAs a reward you will get all up-to-date slides and examples.\n\nThose of you expecting grades and credits, send me the programs of as many assignments as you could complete by 10-th of May 2013."
    },
    {
     "cell_type": "markdown",
     "metadata": {},
     "source": "1. Level of difficulty of the course:\n    \n    - 0 = way too easy\n    - 10= bloody hell!\n\n2. Level of explanations (difficulty to follow the speaker):\n    \n    - 0 = I didn't get anything from what that guy was talking about\n    - 10= more Feynman-like teachers like him!\n    \n3. I find such a course useful in general:\n    \n    - 0 = total bullshit\n    - 10= how could I have lived without it?\n\n4. I find it useful in my particular field of research:\n    \n    - 0 = bullshit\n    - 10= how could I have lived without it?\n\n5. Did the course meet your expectation?\n\n    - 0 = worse than my worst nightmare\n    - 10= beyond all my wishes\n    \n6. Would you recommend it to a friend?\n\n    - 0 = better to keep away\n    - 10= absolutely!\n\n7. How much of the discussed topics were new to you?\n\n    - 0 = never heard about anything like this before\n    - 10= I knew everything already from before, waste of time\n    \n8. How much new did you hear/learn from the course?\n\n    - 0 = zero\n    - 10= I think I could use it now with ease and confidence \n\n9. Topics covered however you would find yourself happy rather not to be covered:\n    \n    - ?\n    \n10. Topics not covered but those you would like to learn about if you could:\n    \n    - ?\n\n11. Further comments?\n\n    - ?"
    },
    {
     "cell_type": "code",
     "collapsed": false,
     "input": "",
     "language": "python",
     "metadata": {},
     "outputs": []
    }
   ],
   "metadata": {}
  }
 ]
}
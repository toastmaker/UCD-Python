{
 "metadata": {
  "name": "UCD-ch0-Syllabus"
 },
 "nbformat": 3,
 "nbformat_minor": 0,
 "worksheets": [
  {
   "cells": [
    {
     "cell_type": "markdown",
     "metadata": {},
     "source": "#Python for Scientists\n##UCD Python Spring School, DGPP PhD Module\n\nDate: Monday 29. 4. 2013 p.m. - Friday 3. 5. 2013 a.m.\n\nAuthor: Martin Topinka\n    \nE-mail: martin.topinka@ucd.ie\n    \nAddress: UCD, School of Physics, room 302\n"
    },
    {
     "cell_type": "markdown",
     "metadata": {},
     "source": "#Syllabus\n\n- **Introduction to Python** (approx. time 2h)\n  - install and run Python +\n  - basics of the language structure +\n  - data types +\n  - loops +\n  - conditions +\n  - functions +\n  - objects (object oriented programming) +\n  - exception handling +\n  - modules +\n  - i/o +\n- **Project management** (approx. time 2h)\n  - versioning _git_ +\n  - documentation +\n  - debugging +\n  - profiling +\n  - programming style +\n- **Python as a replacement for Matlab, IDL or Mathematica** (approx. time 2h)\n  - _numpy_ (vectors) +\n  - _scipy_ (special functions, integration, optimizing)\n  - _matplotlib_ (visualisation) +\n  - _iPython_ (IDE) +\n\n- **Need for speed** (approx. time 2.5h)\n  - optimalization +\n  - vectorizing +\n  - memory handling, _numexpr_ +\n  - C in Python, _Cython_, _Swig_, _scipy.weave_ +\n  - parallelization, MPI, _mpi4py_ +\n- **Miscellaneous** (approx. time 1.5h)\n  - regular expressions +\n  - data handling, _pyfits_ +\n  - web interface _beautifulsoup_, _url2_ +\n  - access shell pipeline +\n  - database _sqlite3_ +\n  - Monte Carlo +\n  - generators +\n  - decorators +\n  - command-line arguments +"
    },
    {
     "cell_type": "markdown",
     "metadata": {},
     "source": "- - -\n- - -\n#Lesson 1: Introduction\n##Why Python?\n- popular (loads of modules and libraries and loads of online help)\n- high-level (human read)\n- cross-platform (versatile)\n- object-oriented (reusable)\n- open source (free)\n- scripting (pipiline)\n- clean syntax    \n- run simulation, crunch data, display data\n- with IDE\n- *numpy*, *scipy*, *matplotlib*\n- relatively easy to learn\n- not restricted to calculation, includes databases, networking, text parsing\n- not as slow for an interpreter, dynamic typing language\n- inline C-code, parallelisable\n\n##Which, what Python?\n- Python 2.7\n- chose your favourite IDE, e.g. [Vim](http://www.vim.org), [Emacs](http://www.gnu.org/software/emacs/), [Chocolat](http://chocolatapp.com), [http://ninja-ide.org](http://ninja-ide.org), [eclipse](www.eclipse.org/)"
    },
    {
     "cell_type": "markdown",
     "metadata": {},
     "source": "#Literature\n\n- [http://diveintopython.net](http://diveintopython.net) - basic introduction to Python syntax\n- [http://scipy.org](http://scipy.org)\n- [http://www.springer.com/mathematics/computational+science+%26+engineering/book/978-3-642-30292-3](http://www.springer.com/mathematics/computational+science+%26+engineering/book/978-3-642-30292-3) - A Primer on Scientific Programming in Python\n- [docs.python.org/tutorial/](docs.python.org/tutorial/) - Official Python tutorial\n\nthis is how to install Python if not installed already:\n\n- [http://python.org/download/](http://python.org/download/)\n- [http://www.enthought.com/products/epd.php](http://www.enthought.com/products/epd.php)\n\nthis shows similarities and differences to Matlab:\n\n- [http://www.scipy.org/NumPy_for_Matlab_Users](http://www.scipy.org/NumPy_for_Matlab_Users)\n\nand this I should provide at the end of the course, otherwise they would know much more than me already before the kickoff:\n\n- [http://scipy-lectures.github.com/](http://scipy-lectures.github.com/)\n- [http://www.greenteapress.com/thinkpython/](http://www.greenteapress.com/thinkpython/)\n- [http://matplotlib.org/](http://matplotlib.org/)"
    },
    {
     "cell_type": "markdown",
     "metadata": {},
     "source": "##IPython\n\nIDE, turn Python into a better Matlab\n\n    $> ipython\n    \n- %run <-- run a script\n- %load <-- load a module (%reload)\n- %paste <-- paste from clipboard and format it\n- %edit <-- jumps to editor\n- %history <-- shows history of command\n- %pdb <--- debugger\n- ipython --pylab <--- loads *numpy* and *matplotlib* modules, equiv. to **from** pylab **import** *, you get Matlab-like environment\n- ipython notebook --pylab=inline <--- this Mathematica-like environment\n- command?, help(object) \n- Tab-completition\n- !shell_command <-- you don't need to leave the IDE\n- %prun myfunc(): profile the myfunc function (equivalent to import cProfile; cProfile.run('myfunc()')\n                                             \n[http://pages.physics.cornell.edu/~myers/teaching/ComputationalMethods/python/ipython.html](http://pages.physics.cornell.edu/~myers/teaching/ComputationalMethods/python/ipython.html)"
    },
    {
     "cell_type": "markdown",
     "metadata": {},
     "source": "## Mini survey"
    },
    {
     "cell_type": "code",
     "collapsed": false,
     "input": "print \"Hello world\"",
     "language": "python",
     "metadata": {},
     "outputs": [
      {
       "output_type": "stream",
       "stream": "stdout",
       "text": "Hello world\n"
      }
     ],
     "prompt_number": 14
    },
    {
     "cell_type": "code",
     "collapsed": false,
     "input": "a= {}\na['hello'] = \"world\"\na",
     "language": "python",
     "metadata": {},
     "outputs": [
      {
       "output_type": "pyout",
       "prompt_number": 15,
       "text": "{'hello': 'world'}"
      }
     ],
     "prompt_number": 15
    },
    {
     "cell_type": "code",
     "collapsed": false,
     "input": "def goodMorning(name):\n    print \"Good morning , %s!\"%name\n\ngoodMorning(\"Antonio\")",
     "language": "python",
     "metadata": {},
     "outputs": [
      {
       "output_type": "stream",
       "stream": "stdout",
       "text": "Good morning , Antonio!\n"
      }
     ],
     "prompt_number": 16
    },
    {
     "cell_type": "code",
     "collapsed": false,
     "input": "map( lambda x: x*x, [ i for i in range(10) ])",
     "language": "python",
     "metadata": {},
     "outputs": [
      {
       "output_type": "pyout",
       "prompt_number": 17,
       "text": "[0, 1, 4, 9, 16, 25, 36, 49, 64, 81]"
      }
     ],
     "prompt_number": 17
    },
    {
     "cell_type": "code",
     "collapsed": false,
     "input": "[ i*i for i in range(10) ]",
     "language": "python",
     "metadata": {},
     "outputs": [
      {
       "output_type": "pyout",
       "prompt_number": 18,
       "text": "[0, 1, 4, 9, 16, 25, 36, 49, 64, 81]"
      }
     ],
     "prompt_number": 18
    },
    {
     "cell_type": "code",
     "collapsed": false,
     "input": "def transform(n):\n    return lambda x: x + n\nf = transform(3)\nf(4)",
     "language": "python",
     "metadata": {},
     "outputs": [
      {
       "output_type": "pyout",
       "prompt_number": 19,
       "text": "7"
      }
     ],
     "prompt_number": 19
    },
    {
     "cell_type": "code",
     "collapsed": false,
     "input": "import numpy as np\nx = np.linspace(1,10,100).reshape(10,10)\nnp.sum(x,axis=1)",
     "language": "python",
     "metadata": {},
     "outputs": []
    },
    {
     "cell_type": "markdown",
     "metadata": {},
     "source": "What does *MPI* stand for?"
    },
    {
     "cell_type": "markdown",
     "metadata": {},
     "source": "- - -\n- - -"
    },
    {
     "cell_type": "markdown",
     "metadata": {},
     "source": "# Credits and acknowledgements\n\nThe non-original materials presented here have been collected from online manuals to the projects discussed here and from the materials provided during the g-Node Advanced Scientific Python summer school in Kiel 2012."
    }
   ],
   "metadata": {}
  }
 ]
}
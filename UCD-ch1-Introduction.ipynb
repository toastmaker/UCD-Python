{
 "metadata": {
  "name": "UCD-ch1-Introduction"
 },
 "nbformat": 3,
 "nbformat_minor": 0,
 "worksheets": [
  {
   "cells": [
    {
     "cell_type": "markdown",
     "metadata": {},
     "source": [
      "#Lesson 1: Rapid introduction to Python syntax\n",
      "\n",
      "https://www.dropbox.com/s/em4clppu79ufnrq/UCD-ch1-Introduction.ipynb\n",
      "    \n",
      "https://dl.dropboxusercontent.com/u/1465532/UCD-ch1-Introduction.py"
     ]
    },
    {
     "cell_type": "code",
     "collapsed": false,
     "input": [
      "ipython notebook --pylab=inline"
     ],
     "language": "python",
     "metadata": {},
     "outputs": []
    },
    {
     "cell_type": "code",
     "collapsed": false,
     "input": [
      "x = 2\n",
      "txt = \"Hello World!\" # string\n",
      "print (\"%s \"%txt)*4"
     ],
     "language": "python",
     "metadata": {},
     "outputs": [
      {
       "output_type": "stream",
       "stream": "stdout",
       "text": [
        "Hello World! Hello World! Hello World! Hello World! \n"
       ]
      }
     ],
     "prompt_number": 9
    },
    {
     "cell_type": "code",
     "collapsed": false,
     "input": [
      "# data types\n",
      "x = 2 # integer number, real/float with decimal dot 2.0\n",
      "x = 2.5*x\n",
      "print x\n",
      "y = 3.\n",
      "print y\n",
      "y = 2*x # Python is dynamic type casting\n",
      "print y"
     ],
     "language": "python",
     "metadata": {},
     "outputs": [
      {
       "output_type": "stream",
       "stream": "stdout",
       "text": [
        "5.0\n",
        "3.0\n",
        "10.0\n"
       ]
      }
     ],
     "prompt_number": 10
    },
    {
     "cell_type": "code",
     "collapsed": false,
     "input": [
      "# lists, tuples, vectors\n",
      "my_list = [ 1 , 2 , 3 ] # or list((1,2,3))\n",
      "my_2nd_list = ['Hello', 2.0, True, \"3.14\"]\n",
      "my_vector = [1,2,3] # vector is a list\n",
      "my_list.insert(0,2)\n",
      "my_list.insert(3,4)\n",
      "my_vector.append(5)\n",
      "print my_list\n",
      "print \"Length of the list = %i elements\"%len(my_list)\n",
      "print my_2nd_list\n",
      "print my_vector\n",
      "print my_vector[1] # arrays indexed from zero (C-like)"
     ],
     "language": "python",
     "metadata": {},
     "outputs": [
      {
       "output_type": "stream",
       "stream": "stdout",
       "text": [
        "[2, 1, 2, 4, 3]\n",
        "Length of the list = 5 elements\n",
        "['Hello', 2.0, True, '3.14']\n",
        "[1, 2, 3, 5]\n",
        "2\n"
       ]
      }
     ],
     "prompt_number": 16
    },
    {
     "cell_type": "code",
     "collapsed": false,
     "input": [
      "a = [ 1, 2, 3 ]\n",
      "a = a  + [ 4, 5, 6 ] # different to numpy!\n",
      "print a"
     ],
     "language": "python",
     "metadata": {},
     "outputs": [
      {
       "output_type": "stream",
       "stream": "stdout",
       "text": [
        "[1, 2, 3, 4, 5, 6]\n"
       ]
      }
     ],
     "prompt_number": 236
    },
    {
     "cell_type": "code",
     "collapsed": false,
     "input": [
      "# slicing\n",
      "print my_2nd_list[2]\n",
      "print my_2nd_list[0:3]\n",
      "print my_2nd_list[:]\n",
      "print my_2nd_list[-1]\n",
      "r = range(10)\n",
      "print \"r = \", r\n",
      "print r[1:8:2]\n",
      "print r[::-1]\n",
      "print my_list + my_2nd_list\n",
      "print my_list\n",
      "print my_list.pop()\n",
      "print my_list"
     ],
     "language": "python",
     "metadata": {},
     "outputs": [
      {
       "output_type": "stream",
       "stream": "stdout",
       "text": [
        "True\n",
        "['Hello', 2.0, True]\n",
        "['Hello', 2.0, True, '3.14']\n",
        "3.14\n",
        "r =  [0, 1, 2, 3, 4, 5, 6, 7, 8, 9]\n",
        "[1, 3, 5, 7]\n",
        "[9, 8, 7, 6, 5, 4, 3, 2, 1, 0]\n",
        "[2, 1, 2, 4, 3, 'Hello', 2.0, True, '3.14']\n",
        "[2, 1, 2, 4, 3]\n",
        "3\n",
        "[2, 1, 2, 4]\n"
       ]
      }
     ],
     "prompt_number": 239
    },
    {
     "cell_type": "code",
     "collapsed": false,
     "input": [
      "my_list + my_2nd_list"
     ],
     "language": "python",
     "metadata": {},
     "outputs": [
      {
       "output_type": "pyout",
       "prompt_number": 240,
       "text": [
        "[2, 1, 2, 4, 'Hello', 2.0, True, '3.14']"
       ]
      }
     ],
     "prompt_number": 240
    },
    {
     "cell_type": "code",
     "collapsed": false,
     "input": [
      "my_tuple = (3, 5, 50)\n",
      "my_2nd_tuple = 4, 6, 50\n",
      "print my_tuple\n",
      "print my_2nd_tuple\n",
      "print my_tuple + my_2nd_tuple\n",
      "print my_tuple[2]"
     ],
     "language": "python",
     "metadata": {},
     "outputs": [
      {
       "output_type": "stream",
       "stream": "stdout",
       "text": [
        "(3, 5, 50)\n",
        "(4, 6, 50)\n",
        "(3, 5, 50, 4, 6, 50)\n",
        "50\n"
       ]
      }
     ],
     "prompt_number": 241
    },
    {
     "cell_type": "markdown",
     "metadata": {},
     "source": [
      "- Tuples are heterogeneous data structures (i.e., their entries have different meanings), while lists are homogeneous sequences.\n",
      "- Tuples have structure, lists have order.\n",
      "- Tuples are immutable while lists are mutable"
     ]
    },
    {
     "cell_type": "code",
     "collapsed": false,
     "input": [
      "# sets\n",
      "my_set = {1,2,3} # or set(my_list)\n",
      "my_set.add(4)\n",
      "my_set.add(2)\n",
      "print my_set\n",
      "print (3 in my_set)"
     ],
     "language": "python",
     "metadata": {},
     "outputs": [
      {
       "output_type": "stream",
       "stream": "stdout",
       "text": [
        "set([1, 2, 3, 4])\n",
        "True\n"
       ]
      }
     ],
     "prompt_number": 242
    },
    {
     "cell_type": "code",
     "collapsed": false,
     "input": [
      "# dictionaries\n",
      "my_dictionary = {'a':1, 'b':2.0, 'c':'rum & coke', 'd':True}\n",
      "print my_dictionary\n",
      "empty_dic = {}\n",
      "empty_dic['keyword']=\"value\"\n",
      "print my_dictionary['b']\n",
      "print my_dictionary['c']\n",
      "print 'd' in my_dictionary # test existence of the key\n",
      "print my_dictionary.has_key('e')"
     ],
     "language": "python",
     "metadata": {},
     "outputs": [
      {
       "output_type": "stream",
       "stream": "stdout",
       "text": [
        "{'a': 1, 'c': 'rum & coke', 'b': 2.0, 'd': True}\n",
        "2.0\n",
        "rum & coke\n",
        "True\n",
        "False\n"
       ]
      }
     ],
     "prompt_number": 17
    },
    {
     "cell_type": "code",
     "collapsed": false,
     "input": [
      "d = {'x': 1, 'y': 2, 'z': 3} \n",
      "for key in d:\n",
      "    print key, 'corresponds to', d[key]"
     ],
     "language": "python",
     "metadata": {},
     "outputs": [
      {
       "output_type": "stream",
       "stream": "stdout",
       "text": [
        "y corresponds to 2\n",
        "x corresponds to 1\n",
        "z corresponds to 3\n"
       ]
      }
     ],
     "prompt_number": 18
    },
    {
     "cell_type": "code",
     "collapsed": false,
     "input": [
      "print list(d.items())\n",
      "for key ,value in d.iteritems():\n",
      "    print key, 'corresponds to', value"
     ],
     "language": "python",
     "metadata": {},
     "outputs": [
      {
       "output_type": "stream",
       "stream": "stdout",
       "text": [
        "[('y', 2), ('x', 1), ('z', 3)]\n",
        "y corresponds to 2\n",
        "x corresponds to 1\n",
        "z corresponds to 3\n"
       ]
      }
     ],
     "prompt_number": 19
    },
    {
     "cell_type": "code",
     "collapsed": false,
     "input": [
      "for key in my_dictionary.keys():\n",
      "    print \"key: \", key, \" value: \", my_dictionary[key]"
     ],
     "language": "python",
     "metadata": {},
     "outputs": []
    },
    {
     "cell_type": "code",
     "collapsed": false,
     "input": [
      "# loops\n",
      "for i in range(5): # code indent, blocks\n",
      "    print i**2"
     ],
     "language": "python",
     "metadata": {},
     "outputs": [
      {
       "output_type": "stream",
       "stream": "stdout",
       "text": [
        "0\n",
        "1\n",
        "4\n",
        "9\n",
        "16\n"
       ]
      }
     ],
     "prompt_number": 20
    },
    {
     "cell_type": "code",
     "collapsed": false,
     "input": [
      "for num in range(10,20):  #to iterate between 10 to 20\n",
      "   for i in range(2,num): #to iterate on the factors of the number\n",
      "      if num%i == 0:      #to determine the first factor\n",
      "         j=num/i #to calculate the second factor\n",
      "         print '%d equals %d * %d' % (num,i,j)\n",
      "         break #to move to the next number, the #first FOR - opposite to continue\n",
      "   else:        # else part of the loop\n",
      "      print num, 'is a prime number'"
     ],
     "language": "python",
     "metadata": {},
     "outputs": [
      {
       "output_type": "stream",
       "stream": "stdout",
       "text": [
        "10 equals 2 * 5\n",
        "11 is a prime number\n",
        "12 equals 2 * 6\n",
        "13 is a prime number\n",
        "14 equals 2 * 7\n",
        "15 equals 3 * 5\n",
        "16 equals 2 * 8\n",
        "17 is a prime number\n",
        "18 equals 2 * 9\n",
        "19 is a prime number\n"
       ]
      }
     ],
     "prompt_number": 25
    },
    {
     "cell_type": "code",
     "collapsed": false,
     "input": [
      "for i in range(100):\n",
      "    if i == 4:\n",
      "        break\n",
      "    print i"
     ],
     "language": "python",
     "metadata": {},
     "outputs": [
      {
       "output_type": "stream",
       "stream": "stdout",
       "text": [
        "0\n",
        "1\n",
        "2\n",
        "3\n"
       ]
      }
     ],
     "prompt_number": 26
    },
    {
     "cell_type": "code",
     "collapsed": false,
     "input": [
      "# formatting output\n",
      "a = 11\n",
      "b = 2.6\n",
      "c = 4\n",
      "d = 4.\n",
      "e = 1 + 3.j\n",
      "print e, abs(e), 3.*e**2, e.conjugate(), e.real, e.imag\n",
      "print a*(3.+b)\n",
      "power = a**b\n",
      "print power, \"\\n%3.4f <- float\\n%i <- integer\\n%e <- scientific\\n\\\n",
      "%s \\tor\\t %i <- \\\"boolean\\\"\\n%s <- string\"%(power, power, power, (power > 0), (power > 0), power)\n",
      "print a/c # integer division\n",
      "print a/d\n",
      "print a//c\n",
      "print a//d\n",
      "print a%c # modulus\n",
      "print a > b, a < b"
     ],
     "language": "python",
     "metadata": {},
     "outputs": [
      {
       "output_type": "stream",
       "stream": "stdout",
       "text": [
        "(1+3j) 3.16227766017 (-24+18j) (1-3j) 1.0 3.0\n",
        "61.6\n",
        "510.059665104 \n",
        "510.0597 <- float\n",
        "510 <- integer\n",
        "5.100597e+02 <- scientific\n",
        "True \tor\t 1 <- \"boolean\"\n",
        "510.059665104 <- string\n",
        "2\n",
        "2.75\n",
        "2\n",
        "2.0\n",
        "3\n",
        "True False\n"
       ]
      }
     ],
     "prompt_number": 21
    },
    {
     "cell_type": "code",
     "collapsed": false,
     "input": [
      "import math\n",
      "import cmath # to be used for complex numbers\n",
      "cmplx = cmath.exp(-1.+3.4j)\n",
      "print cmplx.\n",
      "print cmplx.real\n",
      "print cmplx.imag\n",
      "print cmath.polar(cmplx)\n",
      "print cmath.phase(cmplx)"
     ],
     "language": "python",
     "metadata": {},
     "outputs": [
      {
       "output_type": "stream",
       "stream": "stdout",
       "text": [
        "(-0.355665178812-0.09400831781j)\n",
        "-0.355665178812\n",
        "-0.09400831781\n",
        "(0.36787944117144233, -2.8831853071795868)\n",
        "-2.88318530718\n"
       ]
      }
     ],
     "prompt_number": 28
    },
    {
     "cell_type": "code",
     "collapsed": false,
     "input": [
      "# from __future__ import division\n",
      "print 2/3"
     ],
     "language": "python",
     "metadata": {},
     "outputs": [
      {
       "output_type": "stream",
       "stream": "stdout",
       "text": [
        "0\n"
       ]
      }
     ],
     "prompt_number": 29
    },
    {
     "cell_type": "code",
     "collapsed": false,
     "input": [
      "for i in \"Hello World!\":\n",
      "    print \"%s*\"%i,"
     ],
     "language": "python",
     "metadata": {},
     "outputs": [
      {
       "output_type": "stream",
       "stream": "stdout",
       "text": [
        "H* e* l* l* o*  * W* o* r* l* d* !*\n"
       ]
      }
     ],
     "prompt_number": 30
    },
    {
     "cell_type": "code",
     "collapsed": false,
     "input": [
      "# conditions\n",
      "if (a > b):\n",
      "    print \"%i > %i\"%(a,b)\n",
      "elif (a == b):\n",
      "    print \"equal\"\n",
      "else:\n",
      "    print \"%i < %i\"%(a,b)"
     ],
     "language": "python",
     "metadata": {},
     "outputs": [
      {
       "output_type": "stream",
       "stream": "stdout",
       "text": [
        "11 > 2\n"
       ]
      }
     ],
     "prompt_number": 31
    },
    {
     "cell_type": "code",
     "collapsed": false,
     "input": [
      "# more loops\n",
      "a = 1.\n",
      "b = 1000.\n",
      "while (a < b):\n",
      "    a*=2.\n",
      "    b/=2.\n",
      "    print a, b\n",
      "else:\n",
      "    print \"Got it!\""
     ],
     "language": "python",
     "metadata": {},
     "outputs": [
      {
       "output_type": "stream",
       "stream": "stdout",
       "text": [
        "2.0 500.0\n",
        "4.0 250.0\n",
        "8.0 125.0\n",
        "16.0 62.5\n",
        "32.0 31.25\n",
        "Got it!\n"
       ]
      }
     ],
     "prompt_number": 32
    },
    {
     "cell_type": "code",
     "collapsed": false,
     "input": [
      "from random import randint\n",
      "while True:\n",
      "    print \"Do something\"\n",
      "    decision = randint(-1,1) # -1, 0, 1\n",
      "    if decision == -1:\n",
      "        print \"task finished\"\n",
      "        break\n",
      "    elif decision == 0:\n",
      "        print \"continue normally\"\n",
      "    else:\n",
      "        print \"skip this one\"\n",
      "        continue\n",
      "    print \"rest of work\"\n",
      "else:\n",
      "    print \"Never gets here\""
     ],
     "language": "python",
     "metadata": {},
     "outputs": [
      {
       "output_type": "stream",
       "stream": "stdout",
       "text": [
        "Do something\n",
        "continue normally\n",
        "rest of work\n",
        "Do something\n",
        "skip this one\n",
        "Do something\n",
        "task finished\n"
       ]
      }
     ],
     "prompt_number": 34
    },
    {
     "cell_type": "code",
     "collapsed": false,
     "input": [
      "# import modules, namespaces, dot convention\n",
      "import math as m\n",
      "import numpy\n",
      "from sys import * # try to avoid this!\n",
      "def super_f(x,y):\n",
      "    result = x+y*2*m.sin(3.4)\n",
      "    return result\n",
      "\n",
      "ret = super_f(3,1)\n",
      "print \"Function result = \", ret\n",
      "print numpy.pi\n",
      "eval(\"3+4*super_f(3,1)\")"
     ],
     "language": "python",
     "metadata": {},
     "outputs": [
      {
       "output_type": "stream",
       "stream": "stdout",
       "text": [
        "Function result =  2.48891779595\n",
        "3.14159265359\n"
       ]
      },
      {
       "output_type": "pyout",
       "prompt_number": 35,
       "text": [
        "12.95567118378535"
       ]
      }
     ],
     "prompt_number": 35
    },
    {
     "cell_type": "code",
     "collapsed": false,
     "input": [
      "type(my_list)"
     ],
     "language": "python",
     "metadata": {},
     "outputs": [
      {
       "output_type": "pyout",
       "prompt_number": 36,
       "text": [
        "list"
       ]
      }
     ],
     "prompt_number": 36
    },
    {
     "cell_type": "code",
     "collapsed": false,
     "input": [
      "type(a)"
     ],
     "language": "python",
     "metadata": {},
     "outputs": [
      {
       "output_type": "pyout",
       "prompt_number": 37,
       "text": [
        "float"
       ]
      }
     ],
     "prompt_number": 37
    },
    {
     "cell_type": "code",
     "collapsed": false,
     "input": [
      "type(my_dictionary)"
     ],
     "language": "python",
     "metadata": {},
     "outputs": [
      {
       "output_type": "pyout",
       "prompt_number": 38,
       "text": [
        "dict"
       ]
      }
     ],
     "prompt_number": 38
    },
    {
     "cell_type": "code",
     "collapsed": false,
     "input": [
      "type(b)"
     ],
     "language": "python",
     "metadata": {},
     "outputs": [
      {
       "output_type": "pyout",
       "prompt_number": 39,
       "text": [
        "float"
       ]
      }
     ],
     "prompt_number": 39
    },
    {
     "cell_type": "code",
     "collapsed": false,
     "input": [
      "tup = ( 1 , 2)\n",
      "type(tup)"
     ],
     "language": "python",
     "metadata": {},
     "outputs": [
      {
       "output_type": "pyout",
       "prompt_number": 42,
       "text": [
        "tuple"
       ]
      }
     ],
     "prompt_number": 42
    },
    {
     "cell_type": "code",
     "collapsed": false,
     "input": [
      "my_dictionary['new index']=1000."
     ],
     "language": "python",
     "metadata": {},
     "outputs": [],
     "prompt_number": 43
    },
    {
     "cell_type": "code",
     "collapsed": false,
     "input": [
      "print my_dictionary"
     ],
     "language": "python",
     "metadata": {},
     "outputs": [
      {
       "output_type": "stream",
       "stream": "stdout",
       "text": [
        "{'a': 1, 'c': 'rum & coke', 'b': 2.0, 'new index': 1000.0, 'd': True}\n"
       ]
      }
     ],
     "prompt_number": 44
    },
    {
     "cell_type": "code",
     "collapsed": false,
     "input": [
      "print None"
     ],
     "language": "python",
     "metadata": {},
     "outputs": [
      {
       "output_type": "stream",
       "stream": "stdout",
       "text": [
        "None\n"
       ]
      }
     ],
     "prompt_number": 45
    },
    {
     "cell_type": "code",
     "collapsed": false,
     "input": [
      "len(my_list)"
     ],
     "language": "python",
     "metadata": {},
     "outputs": [
      {
       "output_type": "pyout",
       "prompt_number": 46,
       "text": [
        "5"
       ]
      }
     ],
     "prompt_number": 46
    },
    {
     "cell_type": "code",
     "collapsed": false,
     "input": [
      "# functions\n",
      "def fun(x,p):\n",
      "    \"\"\"Doc string for a function\"\"\"\n",
      "    return p[0]*np.sin(x)*x+p[1]\n",
      "p0=[.3, -2]\n",
      "fun(12, p0)"
     ],
     "language": "python",
     "metadata": {},
     "outputs": [
      {
       "output_type": "pyout",
       "prompt_number": 47,
       "text": [
        "-3.9316625048015656"
       ]
      }
     ],
     "prompt_number": 47
    },
    {
     "cell_type": "code",
     "collapsed": false,
     "input": [
      "#inline (lambda) functions\n",
      "quick = lambda x,y: x+y**2\n",
      "quick(-1,1.1)"
     ],
     "language": "python",
     "metadata": {},
     "outputs": [
      {
       "output_type": "pyout",
       "prompt_number": 48,
       "text": [
        "0.2100000000000002"
       ]
      }
     ],
     "prompt_number": 48
    },
    {
     "cell_type": "code",
     "collapsed": false,
     "input": [
      "a = [1, 2, 3]\n",
      "map(lambda x: x*4, a)"
     ],
     "language": "python",
     "metadata": {},
     "outputs": [
      {
       "output_type": "pyout",
       "prompt_number": 49,
       "text": [
        "[4, 8, 12]"
       ]
      }
     ],
     "prompt_number": 49
    },
    {
     "cell_type": "code",
     "collapsed": false,
     "input": [
      "def border(x, perc):\n",
      "    return [x*(1-perc/100.), x*(1.+perc/100.)]\n",
      "low, high = border(5,10)\n",
      "print \"%3.2f, %e\"%(low, high)"
     ],
     "language": "python",
     "metadata": {},
     "outputs": [
      {
       "output_type": "stream",
       "stream": "stdout",
       "text": [
        "4.50, 5.500000e+00\n"
       ]
      }
     ],
     "prompt_number": 50
    },
    {
     "cell_type": "code",
     "collapsed": false,
     "input": [
      "def func(x, y=1, z = 3):\n",
      "    return x + y + z\n",
      "\n",
      "func(3, z=15)"
     ],
     "language": "python",
     "metadata": {},
     "outputs": [
      {
       "output_type": "pyout",
       "prompt_number": 54,
       "text": [
        "19"
       ]
      }
     ],
     "prompt_number": 54
    },
    {
     "cell_type": "markdown",
     "metadata": {},
     "source": [
      "##Object Oriented Programming\n",
      "\n",
      "- **Objects** - combine state (data) and behavior (algorithms, methods).\n",
      "- **Encapsulation** - not everything is exposed to the outside world (public interface), implementation details are hidden to provide abstraction. The abstraction should not leak implementation details. Abstraction allows us to break up a large problem into smaller parts.\n",
      "- **Classes** - define what is common for a whole class of objects, e.g.: \"Snowy is a dog\" is expressed as \"The Snowy object is an instance of the dog class.\" Define once how a dog works and then reuse it for all dogs.\n",
      "- **Inheritance** - a dog (subclass) is a mammal (parent / superclass). A subclass is derived from / inherits / extends a parent class. It can override parts with specialized behavior and can extend it with additional functionality. Liskov substitution principle\u201d: What works for the parent class should also work for any subclass.\n",
      "- **Polymorphism** - different subclass instances can all be treated in the same way as defined by the parent class, we automatically get their specialized behavior. When we let a mammal make a sound that is an instance of the dog class, then we get a barking sound.\n",
      "- **In Python everything is an object!**\n",
      "\n",
      "\"Design Patterns. Elements of Reusable Object-Oriented Software.\" (1995), written by the \"Gang of Four\".\n",
      "\n",
      "###Good reasons for _not_ writing classes\n",
      "- A class is a tightly coupled piece of code, can be an obstacle for change. Complicated inheritance hierarchies are even worse.\n",
      "- Instead, tuples can be used as simple data structures, together with stand-alone functions. Introduce classes later, when the code has settled.\n",
      "- Collections can be used as an additional intermediate step\n",
      "- Functional programming can be very elegant for some problems\n",
      "- The best is a good coexistence of functional programming with object-oriented programming.\n",
      "\n",
      "***In Python everything is an object, a number, a function, a class, everything...***"
     ]
    },
    {
     "cell_type": "code",
     "collapsed": false,
     "input": [
      "#classes/objects\n",
      "class SomeClass:\n",
      "  \"\"\"Example of a class\"\"\"\n",
      "  pi = 3.14\n",
      "  def __init__(self, init_value):\n",
      "    self.i = init_value\n",
      "  def f(self):\n",
      "    return \"Hello world\"\n",
      "\n",
      "c = SomeClass(42)\n",
      "c.f()\n",
      "print c.pi\n",
      "c.pi = 3\n",
      "print c.i\n",
      "print c.pi\n",
      "print c.f()"
     ],
     "language": "python",
     "metadata": {},
     "outputs": [
      {
       "output_type": "stream",
       "stream": "stdout",
       "text": [
        "3.14\n",
        "42\n",
        "3\n",
        "Hello world\n"
       ]
      }
     ],
     "prompt_number": 55
    },
    {
     "cell_type": "code",
     "collapsed": false,
     "input": [
      "d = SomeClass(1)\n",
      "print c == d\n",
      "print isinstance(c, SomeClass)\n",
      "print type(c) is type(d) # object class comparison"
     ],
     "language": "python",
     "metadata": {},
     "outputs": [
      {
       "output_type": "stream",
       "stream": "stdout",
       "text": [
        "False\n",
        "True\n",
        "True\n"
       ]
      }
     ],
     "prompt_number": 56
    },
    {
     "cell_type": "code",
     "collapsed": false,
     "input": [
      "# classes are copied by reference\n",
      "c_ref_copy = c\n",
      "print c == c_ref_copy"
     ],
     "language": "python",
     "metadata": {},
     "outputs": []
    },
    {
     "cell_type": "code",
     "collapsed": false,
     "input": [
      "import copy\n",
      "c_object_deepcopy = copy.deepcopy(c)\n",
      "print c_object_deepcopy == c"
     ],
     "language": "python",
     "metadata": {},
     "outputs": []
    },
    {
     "cell_type": "markdown",
     "metadata": {},
     "source": [
      "#Exersise 1:\n",
      "\n",
      "    $> python script.py\n",
      "\n",
      "1. Learn how to save the script, run it from command line and from iPython.\n",
      "1. Swap variable values. Swap them in a single command.\n",
      "1. Write a code that gets a text as an input and counts the number of words, counts how many different words are used and how many times each word occurs (frequency analysis). Hint: Use dictionary and set.\n",
      "1. Write a program that calculates a limit of the expression sin(x) / x as x -> 0, with given precision epsilon = 0.000000001\n",
      "1. Write a program that multiply two matrices"
     ]
    },
    {
     "cell_type": "code",
     "collapsed": false,
     "input": [
      "text = \"Hello creepy world world\"\n",
      "text.split()"
     ],
     "language": "python",
     "metadata": {},
     "outputs": [
      {
       "output_type": "pyout",
       "prompt_number": 64,
       "text": [
        "['Hello', 'creepy', 'world', 'world']"
       ]
      }
     ],
     "prompt_number": 64
    },
    {
     "cell_type": "code",
     "collapsed": false,
     "input": [
      "a = 100\n",
      "b = 400\n",
      "print \"a = %i, b = %i\"%(a,b)\n",
      "\n",
      "temp = a\n",
      "a = b\n",
      "b = temp\n",
      "print \"a = %i, b = %i\"%(a,b)\n",
      "\n",
      "a = 100\n",
      "b = 400\n",
      "a,b = b,a\n",
      "print \"a = %i, b = %i\"%(a,b)"
     ],
     "language": "python",
     "metadata": {},
     "outputs": []
    },
    {
     "cell_type": "code",
     "collapsed": false,
     "input": [
      "num_of_different_words = len(set(text.split()))\n",
      "print set(text.split())\n",
      "print num_of_different_words"
     ],
     "language": "python",
     "metadata": {},
     "outputs": [
      {
       "output_type": "stream",
       "stream": "stdout",
       "text": [
        "set(['world', 'Hello', 'creepy'])\n",
        "3\n"
       ]
      }
     ],
     "prompt_number": 66
    },
    {
     "cell_type": "code",
     "collapsed": false,
     "input": [
      "import collections\n",
      "grades = collections.Counter()\n",
      "f = open('grades.log')\n",
      "print f.read()\n",
      "f.seek(0) # reset t the beginning of the file\n",
      "for line in f:\n",
      "    person, grade = line.split()\n",
      "    grades[grade] += 1\n",
      "print grades\n",
      "print \"Histogram\"\n",
      "print('\\n'.join(x + ' ' + 'x'*y for (x, y) in sorted(grades.items())))\n",
      "f.close()"
     ],
     "language": "python",
     "metadata": {},
     "outputs": []
    },
    {
     "cell_type": "code",
     "collapsed": false,
     "input": [
      "text = \"Most observed gamma-ray bursts are believed to consist of a narrow beam of intense radiation released \\\n",
      "during a supernova as a rapidly rotating high mass star collapses to form a neutron star quark star \\\n",
      "or black hole A subclass of gamma-ray bursts the short bursts appear to originate from a different process. \\\n",
      "This may be the merger of binary neutron stars.\"\n",
      "\n",
      "words = text.lower().split()\n",
      "frequency = [words.count(w) for w in words]\n",
      "report = dict(zip(words, frequency))\n",
      "for key in report:\n",
      "    print key, \":\", report[key], \"\\t\","
     ],
     "language": "python",
     "metadata": {},
     "outputs": [
      {
       "output_type": "stream",
       "stream": "stdout",
       "text": [
        "from : 1 \tgamma-ray : 2 \tobserved : 1 \trotating : 1 \tas : 1 \tare : 1 \tbinary : 1 \tdifferent : 1 \trapidly : 1 \tappear : 1 \tmerger : 1 \tradiation : 1 \tsubclass : 1 \tcollapses : 1 \tto : 3 \tblack : 1 \tneutron : 2 \tbe : 1 \tstar : 3 \tform : 1 \tmay : 1 \tsupernova : 1 \tprocess. : 1 \tquark : 1 \tmost : 1 \tduring : 1 \thole : 1 \tintense : 1 \treleased : 1 \ta : 6 \thigh : 1 \tshort : 1 \tconsist : 1 \tbeam : 1 \tthis : 1 \tof : 4 \toriginate : 1 \tstars. : 1 \tbursts : 3 \tmass : 1 \tbelieved : 1 \tthe : 2 \tnarrow : 1 \tor : 1 \t"
       ]
      }
     ],
     "prompt_number": 61
    },
    {
     "cell_type": "code",
     "collapsed": false,
     "input": [
      "# dictionary is not sorted by logic, let's sort it\n",
      "\n",
      "# sorting dictionary literally means transforming it into list\n",
      "import operator\n",
      "\n",
      "sorted_report = sorted(report.iteritems(), key=operator.itemgetter(1),reverse=True)\n",
      "for i,j in sorted_report:\n",
      "    print i, \":\", j, \"\\t\","
     ],
     "language": "python",
     "metadata": {},
     "outputs": [
      {
       "output_type": "stream",
       "stream": "stdout",
       "text": [
        "a : 6 \tof : 4 \tto : 3 \tstar : 3 \tbursts : 3 \tgamma-ray : 2 \tneutron : 2 \tthe : 2 \tfrom : 1 \tobserved : 1 \trotating : 1 \tas : 1 \tare : 1 \tbinary : 1 \tdifferent : 1 \trapidly : 1 \tappear : 1 \tmerger : 1 \tradiation : 1 \tsubclass : 1 \tcollapses : 1 \tblack : 1 \tbe : 1 \tform : 1 \tmay : 1 \tsupernova : 1 \tprocess. : 1 \tquark : 1 \tmost : 1 \tduring : 1 \thole : 1 \tintense : 1 \treleased : 1 \thigh : 1 \tshort : 1 \tconsist : 1 \tbeam : 1 \tthis : 1 \toriginate : 1 \tstars. : 1 \tmass : 1 \tbelieved : 1 \tnarrow : 1 \tor : 1 \t"
       ]
      }
     ],
     "prompt_number": 62
    },
    {
     "cell_type": "code",
     "collapsed": false,
     "input": [
      "#Even better sort\n",
      "for w in sorted(report, key=report.get, reverse=True)[:5]:\n",
      "  print w, report[w]"
     ],
     "language": "python",
     "metadata": {},
     "outputs": []
    },
    {
     "cell_type": "code",
     "collapsed": false,
     "input": [
      "from math import sin\n",
      "\n",
      "def f(x):\n",
      "        return sin(x)/x\n",
      "eps = 1e-9\n",
      "x0 = 10.\n",
      "y0 = f(x0)\n",
      "x = x0/2.\n",
      "step = 0\n",
      "while ( abs(f(x)-y0) > eps):\n",
      "        y0 = f(x)\n",
      "        x/= 2.\n",
      "        step += 1\n",
      "print \"Limit of sin(x)/x -> %1.9f (achieved in %i steps)\"%(f(x), step)"
     ],
     "language": "python",
     "metadata": {},
     "outputs": [
      {
       "output_type": "stream",
       "stream": "stdout",
       "text": [
        "Limit of sin(x)/x -> 1.000000000 (achieved in 17 steps)\n"
       ]
      }
     ],
     "prompt_number": 67
    },
    {
     "cell_type": "code",
     "collapsed": false,
     "input": [
      "def matmul (A, B):\n",
      "    rows_A = len(A)\n",
      "    cols_A = len(A[0])\n",
      "    rows_B = len(B)\n",
      "    cols_B = len(B[0])\n",
      "\n",
      "    if cols_A != rows_B:\n",
      "      print \"Incorrect dimensions.\"\n",
      "      return\n",
      "\n",
      "    C = [[0 for row in range(cols_B)] for col in range(rows_A)]\n",
      "\n",
      "    for i in range(rows_A):\n",
      "        for j in range(cols_B):\n",
      "            for k in range(cols_A):\n",
      "                C[i][j] += A[i][k]*B[k][j]\n",
      "    return C\n",
      "\n",
      "x = [[1,2,3],[4,5,6],[7,8,9],[10,11,12]]\n",
      "y = [[1,2],[1,2],[3,4]]\n",
      "print matmul(x,y)"
     ],
     "language": "python",
     "metadata": {},
     "outputs": [
      {
       "output_type": "stream",
       "stream": "stdout",
       "text": [
        "[[12, 18], [27, 42], [42, 66], [57, 90]]\n"
       ]
      }
     ],
     "prompt_number": 2
    },
    {
     "cell_type": "code",
     "collapsed": false,
     "input": [
      "def matmul_hardcore(a,b):\n",
      "    zip_b = zip(*b)\n",
      "    return [[sum(ele_a*ele_b for ele_a, ele_b in zip(row_a, col_b)) for col_b in zip_b] for row_a in a]\n",
      "\n",
      "print matmul_hardcore(x,y)"
     ],
     "language": "python",
     "metadata": {},
     "outputs": [
      {
       "output_type": "stream",
       "stream": "stdout",
       "text": [
        "[[12, 18], [27, 42], [42, 66], [57, 90]]\n"
       ]
      }
     ],
     "prompt_number": 3
    },
    {
     "cell_type": "code",
     "collapsed": false,
     "input": [
      "import numpy as np\n",
      "numpy_x = np.matrix([[1,2,3],[4,5,6],[7,8,9],[10,11,12]])\n",
      "numpy_y = np.matrix([[1,2],[1,2],[3,4]])\n",
      "print numpy_x * numpy_y"
     ],
     "language": "python",
     "metadata": {},
     "outputs": [
      {
       "output_type": "stream",
       "stream": "stdout",
       "text": [
        "[[12 18]\n",
        " [27 42]\n",
        " [42 66]\n",
        " [57 90]]\n"
       ]
      }
     ],
     "prompt_number": 1
    },
    {
     "cell_type": "markdown",
     "metadata": {},
     "source": [
      "- - -\n",
      "- - -"
     ]
    },
    {
     "cell_type": "code",
     "collapsed": false,
     "input": [
      "data = [ \"apple\", \"orange\", \"apple\", \"banana\", \"pear\", \"apple\", \"orange\" ]\n",
      "counts = {}\n",
      "for item in data:\n",
      "    counts[item] = counts.get(item,0)+1\n",
      "    # long version:\n",
      "    # if item not in counts: counts[item] = 1\n",
      "counts"
     ],
     "language": "python",
     "metadata": {},
     "outputs": [
      {
       "output_type": "pyout",
       "prompt_number": 63,
       "text": [
        "{'apple': 3, 'banana': 1, 'orange': 2, 'pear': 1}"
       ]
      }
     ],
     "prompt_number": 63
    },
    {
     "cell_type": "code",
     "collapsed": false,
     "input": [
      "counts.get?"
     ],
     "language": "python",
     "metadata": {},
     "outputs": []
    },
    {
     "cell_type": "code",
     "collapsed": false,
     "input": [
      "from collections import Counter\n",
      "Counter(data)"
     ],
     "language": "python",
     "metadata": {},
     "outputs": [
      {
       "output_type": "pyout",
       "prompt_number": 2,
       "text": [
        "Counter({'apple': 3, 'orange': 2, 'pear': 1, 'banana': 1})"
       ]
      }
     ],
     "prompt_number": 2
    },
    {
     "cell_type": "code",
     "collapsed": false,
     "input": [],
     "language": "python",
     "metadata": {},
     "outputs": []
    }
   ],
   "metadata": {}
  }
 ]
}
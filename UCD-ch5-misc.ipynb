{
 "metadata": {
  "name": "UCD-ch5-misc"
 },
 "nbformat": 3,
 "nbformat_minor": 0,
 "worksheets": [
  {
   "cells": [
    {
     "cell_type": "markdown",
     "metadata": {},
     "source": "#Lesson 5: Miscellaneous\n\nhttps://dl.dropboxusercontent.com/u/1465532/UCD-ch5-misc.py"
    },
    {
     "cell_type": "markdown",
     "metadata": {},
     "source": "##Exception handling"
    },
    {
     "cell_type": "code",
     "collapsed": false,
     "input": "x = 1/0",
     "language": "python",
     "metadata": {},
     "outputs": [
      {
       "ename": "ZeroDivisionError",
       "evalue": "integer division or modulo by zero",
       "output_type": "pyerr",
       "traceback": [
        "\u001b[0;31m---------------------------------------------------------------------------\u001b[0m\n\u001b[0;31mZeroDivisionError\u001b[0m                         Traceback (most recent call last)",
        "\u001b[0;32m<ipython-input-24-9a769fda9620>\u001b[0m in \u001b[0;36m<module>\u001b[0;34m()\u001b[0m\n\u001b[0;32m----> 1\u001b[0;31m \u001b[0mx\u001b[0m \u001b[0;34m=\u001b[0m \u001b[0;36m1\u001b[0m\u001b[0;34m/\u001b[0m\u001b[0;36m0\u001b[0m\u001b[0;34m\u001b[0m\u001b[0m\n\u001b[0m",
        "\u001b[0;31mZeroDivisionError\u001b[0m: integer division or modulo by zero"
       ]
      }
     ],
     "prompt_number": 24
    },
    {
     "cell_type": "code",
     "collapsed": false,
     "input": "#exception handilng\ntry:\n    x = 1/0\nexcept ZeroDivisionError:\n    x = 0\nprint x",
     "language": "python",
     "metadata": {},
     "outputs": [
      {
       "output_type": "stream",
       "stream": "stdout",
       "text": "0\n"
      }
     ],
     "prompt_number": 25
    },
    {
     "cell_type": "code",
     "collapsed": false,
     "input": "class too_big_number_exception(Exception):\n    pass\ntry:\n    x = 150\n    if x > 100:\n        raise(too_big_number_exception)\n    print 2*x\nexcept too_big_number_exception:\n    print \"Sorry, can't deal with numbers greater than 100...\"",
     "language": "python",
     "metadata": {},
     "outputs": [
      {
       "output_type": "stream",
       "stream": "stdout",
       "text": "Sorry, can't deal with numbers greater than 100...\n"
      }
     ],
     "prompt_number": 26
    },
    {
     "cell_type": "markdown",
     "metadata": {},
     "source": "##Generators"
    },
    {
     "cell_type": "code",
     "collapsed": false,
     "input": "for i in range(10):\n    print i",
     "language": "python",
     "metadata": {},
     "outputs": [
      {
       "output_type": "stream",
       "stream": "stdout",
       "text": "0\n1\n2\n3\n4\n5\n6\n7\n8\n9\n"
      }
     ],
     "prompt_number": 27
    },
    {
     "cell_type": "code",
     "collapsed": false,
     "input": "def squares(lastterm):\n       for n in range(lastterm):\n          yield n**2\n\nfor i in squares(3):\n    print i\n   \nprint [i for i in squares(10)]",
     "language": "python",
     "metadata": {},
     "outputs": [
      {
       "output_type": "stream",
       "stream": "stdout",
       "text": "0\n1\n4\n[0, 1, 4, 9, 16, 25, 36, 49, 64, 81]\n"
      }
     ],
     "prompt_number": 28
    },
    {
     "cell_type": "code",
     "collapsed": false,
     "input": "from math import sin\nprint [ sin(i) for i in squares(10) if i%2==0 and i%3==1]",
     "language": "python",
     "metadata": {},
     "outputs": [
      {
       "output_type": "stream",
       "stream": "stdout",
       "text": "[-0.7568024953079282, -0.2879033166650653, 0.9200260381967907]\n"
      }
     ],
     "prompt_number": 29
    },
    {
     "cell_type": "code",
     "collapsed": false,
     "input": "import random\ndef rnd(_seed, n):\n    random.seed(_seed)\n    for counter in range(n):\n        yield random.random()\n\nfor i in rnd(3,4):\n    print i\nfor i in rnd(3,2):\n    print i",
     "language": "python",
     "metadata": {},
     "outputs": [
      {
       "output_type": "stream",
       "stream": "stdout",
       "text": "0.237964627092\n0.544229225296\n0.369955166548\n0.603920038596\n0.237964627092\n0.544229225296\n"
      }
     ],
     "prompt_number": 31
    },
    {
     "cell_type": "code",
     "collapsed": false,
     "input": "import numpy\nnumpy.random.seed(3)\nnumpy.random.random(10)",
     "language": "python",
     "metadata": {},
     "outputs": [
      {
       "output_type": "pyout",
       "prompt_number": 33,
       "text": "array([ 0.5507979 ,  0.70814782,  0.29090474,  0.51082761,  0.89294695,\n        0.89629309,  0.12558531,  0.20724288,  0.0514672 ,  0.44080984])"
      }
     ],
     "prompt_number": 33
    },
    {
     "cell_type": "markdown",
     "metadata": {},
     "source": "##Regular expressions"
    },
    {
     "cell_type": "code",
     "collapsed": false,
     "input": "s = 'Broad road turns 100 times'",
     "language": "python",
     "metadata": {},
     "outputs": [],
     "prompt_number": 34
    },
    {
     "cell_type": "code",
     "collapsed": false,
     "input": "s.replace('100','500')",
     "language": "python",
     "metadata": {},
     "outputs": [
      {
       "output_type": "pyout",
       "prompt_number": 35,
       "text": "'Broad road turns 500 times'"
      }
     ],
     "prompt_number": 35
    },
    {
     "cell_type": "code",
     "collapsed": false,
     "input": "import re\nre.sub(r'\\broad','path',s)",
     "language": "python",
     "metadata": {},
     "outputs": [
      {
       "output_type": "pyout",
       "prompt_number": 36,
       "text": "'Broad path turns 100 times'"
      }
     ],
     "prompt_number": 36
    },
    {
     "cell_type": "code",
     "collapsed": false,
     "input": "print s\npattern = '^Br.*\\s(\\d{3}) (times|lives).*$'\nk = re.match(pattern,s)\nif k:\n    print \"Matched!\"\nelse:\n    print \"Nope!\"",
     "language": "python",
     "metadata": {},
     "outputs": [
      {
       "output_type": "stream",
       "stream": "stdout",
       "text": "Broad road turns 100 times\nMatched!\n"
      }
     ],
     "prompt_number": 39
    },
    {
     "cell_type": "code",
     "collapsed": false,
     "input": "k",
     "language": "python",
     "metadata": {},
     "outputs": []
    },
    {
     "cell_type": "code",
     "collapsed": false,
     "input": "phonePattern = re.compile(r'^.*[\\+|00]\\D*(\\d{3})\\D*(\\d+)$')\nphonePattern.search('work 00 353 868954624').groups()",
     "language": "python",
     "metadata": {},
     "outputs": [
      {
       "output_type": "pyout",
       "prompt_number": 46,
       "text": "('353', '868954624')"
      }
     ],
     "prompt_number": 46
    },
    {
     "cell_type": "code",
     "collapsed": false,
     "input": "print re.split('\\W',s)\nprint re.split('[a-f]+', '0a3B9', flags=re.IGNORECASE)",
     "language": "python",
     "metadata": {},
     "outputs": [
      {
       "output_type": "stream",
       "stream": "stdout",
       "text": "['Broad', 'road', 'turns', '100', 'times']\n['0', '3', '9']\n"
      }
     ],
     "prompt_number": 47
    },
    {
     "cell_type": "markdown",
     "metadata": {},
     "source": "###Cheat table\n\n| symbol | meaning |\n| :----- | :-------------------------------------- |\n| .  | any character (even empty character) |\n| \\d | digit |\n| \\s | space |\n| \\S | nonspace |\n| \\D | non-digit |\n| \\b | empty string at beginning or end of word |\n| \\W | non-alphanumeric\n| [] | set of characters [^abc]\n| () | grouping SN1998bw .*{d,4})\\D+\n| *  | any times (even zero times) |\n| ?  | zero or one times |\n| +  | one or more |\n| {n}| n-times |\n| \\| | or [apples|oranges]\n| ^  | beginning of the string |\n| $  | end of the string |\n\n- The '*', '+', and '?' qualifiers are all greedy.\n- Most of the standard escapes are accepted by the regular expression parser (\\f, \\n, \\r, \\t, \\\\\\\\ )\n\n([GRB|XRF])\\s?(\\d{6})\\w? GRB 121212A GRB100201"
    },
    {
     "cell_type": "markdown",
     "metadata": {},
     "source": "##Input and output\n    age = raw_input(\"How old are you? \") # terminal\n    import sys # stdin, stdout, sdterr\n    f_in = sys.stdin.readlines()\n    sys.stderr.write(\"Hyper error occurred!\\n\")\n\niPython notebook as a html page does not have a mechanism to manage stdin, stdout, stderr"
    },
    {
     "cell_type": "code",
     "collapsed": false,
     "input": "# age = raw_input(\"How old are you? \")\n# iPython notebook (as a html) does not have a mechanism to manage stdin\n\nf = open('workfile', 'w')\ntext = \"This is the text to be written into a text file.\\nAnd this is te second line, it's gonna be almost a book now.\"\nf.write(text)\nf.close()\nf = open('workfile','r')\nlines = f.readlines()\nprint \"Array of lines: \", lines\ni = 0\nfor line in lines:\n    i+=1\n    print \"line %i :\"%i, line.rstrip()\nf.close()\nf = open('workfile','r')\ntext_file = f.read()\nprint \"Entire file: \", text_file\nf.close()\nf = open('workfile','r')\nprint \"Read line by line:\"\nline = f.readline()\nwhile line:\n    print line.rstrip()\n    line = f.readline()\nf.close()\nprint \"Iterate over entire file:\"\nf = open('workfile','r')\nfor line in f:\n    print line.rstrip()\nf.close()\n# wb, rb in bibary mode\n# STDIN, STDOUT",
     "language": "python",
     "metadata": {},
     "outputs": [
      {
       "output_type": "stream",
       "stream": "stdout",
       "text": "Array of lines:  ['This is the text to be written into a text file.\\n', \"And this is te second line, it's gonna be almost a book now.\"]\nline 1 : This is the text to be written into a text file.\nline 2 : And this is te second line, it's gonna be almost a book now.\nEntire file:  This is the text to be written into a text file.\nAnd this is te second line, it's gonna be almost a book now.\nRead line by line:\nThis is the text to be written into a text file.\nAnd this is te second line, it's gonna be almost a book now.\nIterate over entire file:\nThis is the text to be written into a text file.\nAnd this is te second line, it's gonna be almost a book now.\n"
      }
     ],
     "prompt_number": 48
    },
    {
     "cell_type": "code",
     "collapsed": false,
     "input": "import pyfits\nhdulist = pyfits.open('observation.fits')\nhdulist.info()\nobs_header = hdulist[0].header\nprint\nprint \"Julian Date = \", obs_header['JD']\nobs_header.update('SANITY','failed',comment='Checking the madness level')\n# new syntax enables to work with it as with any other dictionary obs_header['SANITY'] = (value, comment)\nprint obs_header.keys()\nprint hdulist[0].data[0:5,0:5]\n# hdulist.writeto('newimage.fits')\nhdulist.close()\n",
     "language": "python",
     "metadata": {},
     "outputs": [
      {
       "output_type": "stream",
       "stream": "stdout",
       "text": "Filename: observation.fits\nNo.    Name         Type      Cards   Dimensions   Format\n0    PRIMARY     PrimaryHDU     199   (1024, 1024)   int16\n"
      },
      {
       "output_type": "stream",
       "stream": "stdout",
       "text": "\nJulian Date =  2455887.42652\n['SIMPLE', 'BITPIX', 'NAXIS', 'NAXIS1', 'NAXIS2', 'EXTEND', 'HISTORY', 'CTIME', 'USEC', 'JD', 'DATE-OBS', 'TARGET', 'TARSEL', 'TARTYPE', 'OBSID', 'IMGID', 'PROC', 'OBJECT', 'CCD_NAME', 'MOONDIST', 'MOONRA', 'MOONDEC', 'MOONPHA', 'MOONALT', 'MOONAZ', 'GRB_RA', 'GRB_DEC', 'GRB_ERR', 'EXPOSURE', 'EXPTIME', 'INSTRUME', 'TELESCOP', 'ORIGIN', 'FOC_NAME', 'CCD_TYPE', 'CCD_SER', 'SCRIPREP', 'SCRIPT', 'SCR_COMM', 'COMM_NUM', 'BINNING', 'BINX', 'BINY', 'FLIP', 'CCD_ROTA', 'CCD_TEMP', 'COOLING', 'CCD_SET', 'SHUTTER', 'ADCHANEL', 'VSPEED', 'EMON', 'HSPEED', 'FTSHUT', 'SUBEXPOSURE', 'USEFT', 'USERTA', 'ACQMODE', 'FILTCR', 'XPLATE', 'YPLATE', 'SAMPLI', 'PREAMP', 'EMCCDGAIN', 'EMADV', 'GAINMODE', 'BASECLAM', 'BASEOFF', 'FANMODE', 'CLOUD.NEXT_GOOD_WEATHER', 'CLOUD.TEMP_DIFF', 'CLOUD.TEMP_DIFF.MODE', 'CLOUD.TEMP_DIFF.MIN', 'CLOUD.TEMP_DIFF.MAX', 'CLOUD.TEMP_DIFF.STD', 'CLOUD.TEMP_DIFF.NUM', 'CLOUD.TEMP_IN', 'CLOUD.TEMP_IN.MODE', 'CLOUD.TEMP_IN.MIN', 'CLOUD.TEMP_IN.MAX', 'CLOUD.TEMP_IN.STD', 'CLOUD.TEMP_IN.NUM', 'CLOUD.TEMP_OUT', 'CLOUD.TEMP_OUT.MODE', 'CLOUD.TEMP_OUT.MIN', 'CLOUD.TEMP_OUT.MAX', 'CLOUD.TEMP_OUT.STD', 'CLOUD.TEMP_OUT.NUM', 'UPS.NEXT_GOOD_WEATHER', 'DAVIS.NEXT_GOOD_WEATHER', 'DAVIS.DOME_TMP', 'DAVIS.DOME_HUM', 'DAVIS.RAIN', 'DAVIS.AVGWIND', 'DAVIS.PEEKWIND', 'DAVIS.WETNESS', 'DAVIS.CLOUD_S', 'DAVIS.CLOUD_T', 'DAVIS.CLOUD_B', 'MNT_NAME', 'LATITUDE', 'LONGITUD', 'ALTITUDE', 'ORIRA', 'ORIDEC', 'OFFSRA', 'OFFSDEC', 'DSPEEDRA', 'DSPEEDDEC', 'OBJRA', 'OBJDEC', 'TARRA', 'TARDEC', 'CORR_RA', 'CORR_DEC', 'MO_RTS2RA', 'MO_RTS2DEC', 'TELRA', 'TELDEC', 'JD_HELIO', 'TEL_ALT', 'TEL_AZ', 'MPEC_DIFRA', 'MPEC_DIFDEC', 'PARKTIME', 'AIRMASS', 'HA', 'LST', 'MOVE_NUM', 'CORR_IMG', 'MNT_ROTA', 'MNT_FLIP', 'AXRA', 'AXDEC', 'HR_RA', 'BR_RA', 'BR_DEC', 'IH', 'ID', 'MNT_INFO', 'SUN_ALT', 'SUN_AZ', 'FOC_TYPE', 'FOC_POS', 'FOC_TAR', 'FOC_DEF', 'FOC_FOFF', 'FOC_TOFF', 'FOC_TEMP', 'CAM_XOA', 'CAM_YOA', 'CAM_FILT', 'BZERO', 'BSCALE', 'LTV1', 'LTM1_1', 'LTV2', 'LTM2_2', 'AVERAGE', 'STDEV', 'BGSTDEV', 'IMAGETYP', 'FILTER', 'ROTANG', 'DATE', 'ASTCAT', 'NCROSS', 'MAG_ZERO', 'SKYMAG', 'POS_ERR', 'RA_ERR', 'DEC_ERR', 'FWHM', 'QMAGMAX', 'PAST_XSC', 'PAST_YSC', 'PAST_RA', 'PAST_DEC', 'PAST_ROT', 'ASTERROR', 'DMAGZERO', 'PAST_AZ', 'PAST_ALT', 'XAIRMASS', 'RA', 'DEC', 'EQUINOX', 'EPOCH', 'RADECSYS', 'CTYPE1', 'CTYPE2', 'CRVAL1', 'CRVAL2', 'CRPIX1', 'CRPIX2', 'CD1_1', 'CD1_2', 'CD2_1', 'CD2_2', 'SANITY']\n[[ 561.  559.  556.  576.  562.]\n [ 574.  574.  562.  572.  563.]\n [ 557.  570.  582.  566.  579.]\n [ 573.  564.  577.  576.  562.]\n [ 568.  566.  572.  570.  570.]]\n"
      }
     ],
     "prompt_number": 49
    },
    {
     "cell_type": "code",
     "collapsed": false,
     "input": "f = pyfits.open('observation.fits', mode='update')\n# making changes in data and/or header\nf.flush() # changes are written back to the original file",
     "language": "python",
     "metadata": {},
     "outputs": []
    },
    {
     "cell_type": "code",
     "collapsed": false,
     "input": "import numpy as np\nimport os\n\nn = np.arange(100.0)\nhdu = pyfits.PrimaryHDU(n.reshape(10,10))\nhdulist = pyfits.HDUList([hdu])\nos.remove('new.fits') # delete file to prevent exception that the file already exists\nhdulist.writeto('new.fits')\n\nval1 = np.array(['NGC1001', 'NGC1002', 'NGC1003'])\nval2 = np.array([11.1, 12.3, 15.2])\ntable_hdu = pyfits.new_table(pyfits.ColDefs([pyfits.Column(name='target', format='20A', array=val1), pyfits.Column(name='V_mag', format='E', array=val2)] ))\nhdu = pyfits.PrimaryHDU(n)\ntable_hdulist = pyfits.HDUList([hdu, table_hdu])\nos.remove('table.fits') # delete file to prevent exception that the file already exists\ntable_hdulist.writeto('table.fits')",
     "language": "python",
     "metadata": {},
     "outputs": []
    },
    {
     "cell_type": "markdown",
     "metadata": {},
     "source": "##Web parsing"
    },
    {
     "cell_type": "code",
     "collapsed": false,
     "input": "import urllib2\nfrom bs4 import BeautifulSoup\n\nurl = \"http://graspa.oapd.inaf.it/cgi-bin/sncat.php\" # Asiago supernova catalogue\nhtml = urllib2.urlopen(url)\nsoup = BeautifulSoup(html)\ntable = soup.find(\"table\") #(id=label)\nrows = table.findAll('tr')\nprint \"Total number of entries = %i\"%len(rows)\nind = [0, 1000, 1001, 1002, 1003] # row indices of interest\nfor tr in map(lambda x:rows[x],ind):\n  cols = tr.findAll('td')\n  for td in cols[1:3]:\n            try:\n                text = ''.join( td.find(text=True) )\n                print text+\" | \",\n            except:\n                pass\n  print",
     "language": "python",
     "metadata": {},
     "outputs": [
      {
       "output_type": "stream",
       "stream": "stdout",
       "text": "Total number of entries = 6312\nSN |  GALAXY | \n1995 T |  A222712-0929 | \n1995 U |  E235-G13 | \n1995 V |  NGC1087 | \n1995 W |  NGC7650 | \n"
      }
     ],
     "prompt_number": 50
    },
    {
     "cell_type": "markdown",
     "metadata": {},
     "source": "##Run shell command\nThere are several ways\n\n    import os\n    cmd = \"ls -ltr\"\n    os.system(cmd)\n    \n    from commands import getstatusoutput\n\n    try:\n        return getstatusoutput(cmd)\n    except Exception, e:\n        return None\n    \n    from subprocess import Popen\n    proc = Popen(['ls', '-l']) # you may separate command and parameters\n    if proc.poll() is None: # safe way of killing\n       proc.kill()"
    },
    {
     "cell_type": "code",
     "collapsed": false,
     "input": "from subprocess import check_output\nprint check_output([\"ls\", \"-l\",\"/Users/toast/Dropbox/school/table_parser.py\"])\nprint check_output([\"echo\", \"${SHELL}\"]) # it didn't interpret wildcards or variables, since they are interpreed by shell",
     "language": "python",
     "metadata": {},
     "outputs": [
      {
       "output_type": "stream",
       "stream": "stdout",
       "text": "-rwxr-xr-x  1 toast  staff  5952 14 Mar 12:06 /Users/toast/Dropbox/school/table_parser.py\n\n${SHELL}\n\n"
      }
     ],
     "prompt_number": 53
    },
    {
     "cell_type": "code",
     "collapsed": false,
     "input": "from subprocess import Popen, PIPE\ncmd = \"ls -l ~/UCD*\"\np = Popen(cmd , shell=True, stdout=PIPE, stderr=PIPE)\nout, err = p.communicate()\nprint \"Return code: \", p.returncode\nprint out.rstrip(), err.rstrip()",
     "language": "python",
     "metadata": {},
     "outputs": [
      {
       "output_type": "stream",
       "stream": "stdout",
       "text": "Return code:  0\n-rw-r--r--  1 toast  staff  1095407 13 Apr 18:39 /Users/toast/UCD Python Spring School.ipynb \n"
      }
     ],
     "prompt_number": 56
    },
    {
     "cell_type": "markdown",
     "metadata": {},
     "source": "##Database\n\n- sqlite\n- mysql\n- postgres"
    },
    {
     "cell_type": "code",
     "collapsed": false,
     "input": "import sqlite3\ncon = sqlite3.connect('test.db')\nwith con:\n    cur = con.cursor()    \n    cur.execute('SELECT SQLITE_VERSION()')\n    data = cur.fetchone()\n    print \"SQLite version: %s\" % data\n    cur.execute(\"CREATE TABLE IF NOT EXISTS Galaxies(Name TEXT, Magnitude FLOAT)\")\n    cur.execute(\"INSERT OR REPLACE INTO Galaxies VALUES('M55',23.4)\")\n    cur.execute(\"INSERT INTO Galaxies VALUES('M21',20.5)\")\n    cur.execute(\"INSERT INTO Galaxies VALUES('M41',22.5)\")\n    galaxies = (('M11', 21.1) , ('M09',12.4) )\n    cur.executemany(\"INSERT INTO Galaxies VALUES(?, ?)\", galaxies )\n    cur.execute(\"SELECT * FROM Galaxies WHERE Magnitude > 21\")\n    rows = cur.fetchall()\n    for row in rows:\n        print row\n    cur.execute(\"DROP TABLE Galaxies\")",
     "language": "python",
     "metadata": {},
     "outputs": [
      {
       "output_type": "stream",
       "stream": "stdout",
       "text": "SQLite version: 3.7.12\n(u'M55', 23.4)\n(u'M41', 22.5)\n(u'M11', 21.1)\n"
      }
     ],
     "prompt_number": 57
    },
    {
     "cell_type": "markdown",
     "metadata": {},
     "source": "### Command-line argument parsing\n\n    #!/usr/bin/env python\n    \n    ...\n    \n    python arg-ex.py 10 -c --word=Hello\n    \n    python arg-cmd.py my-file.py\n    \n    try:\n        output_file = sys.argv[1]\n        f = open(output_file)\n    except:\n        output_file = \"default.data\"\n        \n    import sys\n    \n    for arg in sys.argv:\n        print arg\n    \n    arg-ex.py\n    10\n    -c\n    --word=Hello\n\nMore sophisticted ways:\n\n    - getopt\n    - optparse\n    \n    import getopt, sys\n\n    def main():\n       try:\n           opts, args = getopt.getopt(sys.argv[1:], \"ho:v\", [\"help\", \"output=\"])\n       except getopt.GetoptError as err:\n           # print help information and exit:\n           print str(err) # will print something like \"option -a not recognized\"\n           usage()\n           sys.exit(2)\n       output = None\n       verbose = False\n       for o, a in opts:\n           if o == \"-v\":\n               verbose = True\n           elif o in (\"-h\", \"--help\"):\n               usage()\n               sys.exit()\n           elif o in (\"-o\", \"--output\"):\n               output = a\n           else:\n               assert False, \"unhandled option\"\n\n    if __name__ == \"__main__\":\n        main()\n"
    },
    {
     "cell_type": "markdown",
     "metadata": {},
     "source": "##Monte Carlo"
    },
    {
     "cell_type": "code",
     "collapsed": false,
     "input": "from random import random\nfrom math import pow, sqrt, pi\nimport time\n\ndef dist(x,y):\n    return sqrt(pow(x, 2) + pow(y, 2))\n\nN=20000000\nstart = time.time()\nhits = 0\nfor i in range (N):\n    x = random()\n    y = random()\n#    distance = dist(x,y)\n#    distance = sqrt(pow(x, 2) + pow(y, 2))\n    distance = x*x + y*y\n    if distance <= 1.0:\n\t\thits += 1\n\npi_value = 4. * (hits / float(N))\nelapsed = (time.time() - start)\n\nprint \"Calculated pi = %0.16f\" %(pi_value)\nprint \"Real value pi = %0.16f\" %(pi)\nprint elapsed , 's'",
     "language": "python",
     "metadata": {},
     "outputs": [
      {
       "output_type": "stream",
       "stream": "stdout",
       "text": "Calculated pi = 3.1417796000000000\nReal value pi = 3.1415926535897931\n11.5199410915 s\n"
      }
     ],
     "prompt_number": 64
    },
    {
     "cell_type": "code",
     "collapsed": false,
     "input": "import numpy as np\nstart = time.time()\n# scattering n points over the unit square\np = np.random.rand(N,2)\n# counting the points inside the unit circle\npi_value = 4.*np.sum(p[:,0]**2+p[:,1]**2 <= 1.0)/float(N)\n\n# # Avoid mixing numpy with non-numpy !!!\n# pi_value = 4.*sum(p[:,0]**2+p[:,1]**2 <= 1.0)/float(N)\n\n# estimation of pi\nelapsed = (time.time() - start)\nprint \"Calculated pi = %0.16f\" %(pi_value)\nprint \"Real value pi = %0.16f\" %(np.pi)\nprint elapsed, 's'",
     "language": "python",
     "metadata": {},
     "outputs": [
      {
       "output_type": "stream",
       "stream": "stdout",
       "text": "Calculated pi = 3.1413552000000000\nReal value pi = 3.1415926535897931\n1.16675591469 s\n"
      }
     ],
     "prompt_number": 65
    },
    {
     "cell_type": "code",
     "collapsed": false,
     "input": "import math\nimport random\n\n# define any function here!\ndef f(x):\n\treturn math.sin(x)\n\n# define any xmin-xmax interval here! (xmin < xmax)\nxmin = -math.pi # 0.0\nxmax = math.pi/3.\n\n# find ymin-ymax\nnumSteps = 10000000 # bigger the better but slower!\nymin = f(xmin)\nymax = ymin\nfor i in range(numSteps):\n\tx = xmin + (xmax - xmin) * float(i) / numSteps\n\ty = f(x)\n\tif y < ymin: ymin = y\n\tif y > ymax: ymax = y\n\n# Monte Carlo\nrectArea = (xmax - xmin) * (ymax - ymin)\nnumPoints = 1000000 # bigger the better but slower!\nctr = 0\nfor j in range(numPoints):\n\tx = xmin + (xmax - xmin) * random.random()\n\ty = ymin + (ymax - ymin) * random.random()\n\tif math.fabs(y) <= math.fabs(f(x)):\n\t\tif f(x) > 0 and y > 0 and y <= f(x):\n\t\t\tctr += 1 # area over x-axis is positive\n\t\tif f(x) < 0 and y < 0 and y >= f(x):\n\t\t\tctr -= 1 # area under x-axis is negative\n\nfnArea = rectArea * float(ctr) / numPoints\nprint \"Numerical integration = %8.7f\"%fnArea",
     "language": "python",
     "metadata": {},
     "outputs": [
      {
       "output_type": "stream",
       "stream": "stdout",
       "text": "Numerical integration = -1.5032087\n"
      }
     ],
     "prompt_number": 66
    },
    {
     "cell_type": "code",
     "collapsed": false,
     "input": "def trapezoidal_rule(f, a, b, n):\n    \"\"\"Approximates the definite integral of f from a to b by\n    the composite trapezoidal rule, using n subintervals\"\"\"\n    h = (b - a) / float(n)\n    s = f(a) + f(b)\n    for i in xrange(1, n):\n        s += 2 * f(a + i * h)\n    return s * h / 2.\n \nprint \"%0.10f\"%trapezoidal_rule(lambda x:f(x), xmin, xmax, 100000)",
     "language": "python",
     "metadata": {},
     "outputs": [
      {
       "output_type": "stream",
       "stream": "stdout",
       "text": "-1.4999999998\n"
      }
     ],
     "prompt_number": 67
    },
    {
     "cell_type": "code",
     "collapsed": false,
     "input": "from scipy.integrate import quad \nnumpy_int = quad(f, xmin, xmax)\nprint \"Scipy integration     = %0.10f\"%numpy_int[0]",
     "language": "python",
     "metadata": {},
     "outputs": [
      {
       "output_type": "stream",
       "stream": "stdout",
       "text": "Scipy integration     = -1.5000000000\n"
      }
     ],
     "prompt_number": 68
    },
    {
     "cell_type": "markdown",
     "metadata": {},
     "source": "## Python within Python"
    },
    {
     "cell_type": "code",
     "collapsed": false,
     "input": "import math\nexpression = \"1 + math.sin(0.1)*2.\"\neval(expression)",
     "language": "python",
     "metadata": {},
     "outputs": [
      {
       "output_type": "pyout",
       "prompt_number": 58,
       "text": "1.1996668332936564"
      }
     ],
     "prompt_number": 58
    },
    {
     "cell_type": "code",
     "collapsed": false,
     "input": "code = \"print 'Hello dummy!'\"\nexec code",
     "language": "python",
     "metadata": {},
     "outputs": [
      {
       "output_type": "stream",
       "stream": "stdout",
       "text": "Hello dummy!\n"
      }
     ],
     "prompt_number": 59
    },
    {
     "cell_type": "markdown",
     "metadata": {},
     "source": "- linear algebra"
    },
    {
     "cell_type": "markdown",
     "metadata": {},
     "source": "# Exersise 5:\n\n1. Play with the Monte Carlo Pi example above, measure elapsed time for versions with sqrt, pow(x,2), x**2, x*x, different N. Discuss the differences.\n\n2. Write a simple calculator, use re module to check validity of a string, use exception handling, use eval to get the value"
    },
    {
     "cell_type": "markdown",
     "metadata": {},
     "source": "- - -\n- - -"
    },
    {
     "cell_type": "code",
     "collapsed": false,
     "input": "import math\nimport re\n\ndef valid(expr):\n    # oprators, digits, functions of math module (ex. __xxx__)\n    whitelist = '^('+'|'.join(['-', r'\\+', '/', r'\\\\', r'\\*', r'\\^', r'\\*\\*', r'\\(', r'\\)', '\\d+'] + [f for f in dir(math) if f[:2] != '__']) + ')*$'\n    return lambda code: re.match(whitelist, code)\n\ndef calc(expr):\n    \"\"\"Simple calculator\"\"\"\n    if valid(expr):\n        return eval(expr)\n    else:\n        return None\n\nprint calc(\"3.4+log(10)\")",
     "language": "python",
     "metadata": {},
     "outputs": []
    },
    {
     "cell_type": "code",
     "collapsed": false,
     "input": "",
     "language": "python",
     "metadata": {},
     "outputs": []
    }
   ],
   "metadata": {}
  }
 ]
}
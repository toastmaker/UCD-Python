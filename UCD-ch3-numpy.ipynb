{
 "metadata": {
  "name": "UCD-ch3-numpy"
 },
 "nbformat": 3,
 "nbformat_minor": 0,
 "worksheets": [
  {
   "cells": [
    {
     "cell_type": "markdown",
     "metadata": {},
     "source": "#Lesson 3: Numpy, scipy\n\nhttps://dl.dropboxusercontent.com/u/1465532/UCD-ch3-numpy.py"
    },
    {
     "cell_type": "markdown",
     "metadata": {},
     "source": "*numpy* is a module operating on vectors, like Matlab, IDL. In combination with *ipython* and *matplotlib* you have full interactive environment\n\n- why to use *numpy*? Because it makes things much faster!"
    },
    {
     "cell_type": "code",
     "collapsed": false,
     "input": "def suma(N=10000000):\n    s = 0\n    for i in range(N):\n        s += i\n    return s\nprint suma()\n%timeit suma()",
     "language": "python",
     "metadata": {},
     "outputs": [
      {
       "output_type": "stream",
       "stream": "stdout",
       "text": "49999995000000\n1 loops, best of 3: 705 ms per loop"
      },
      {
       "output_type": "stream",
       "stream": "stdout",
       "text": "\n"
      }
     ],
     "prompt_number": 11
    },
    {
     "cell_type": "code",
     "collapsed": false,
     "input": "import numpy\ndef suma_numpy(N=10000000):\n    s = np.arange(N).sum()\n    return s\nprint suma_numpy()\n%timeit suma_numpy()",
     "language": "python",
     "metadata": {},
     "outputs": [
      {
       "output_type": "stream",
       "stream": "stdout",
       "text": "49999995000000\n10 loops, best of 3: 34.7 ms per loop"
      },
      {
       "output_type": "stream",
       "stream": "stdout",
       "text": "\n"
      }
     ],
     "prompt_number": 12
    },
    {
     "cell_type": "code",
     "collapsed": false,
     "input": "704/34.7",
     "language": "python",
     "metadata": {},
     "outputs": [
      {
       "output_type": "pyout",
       "prompt_number": 13,
       "text": "20.288184438040343"
      }
     ],
     "prompt_number": 13
    },
    {
     "cell_type": "code",
     "collapsed": false,
     "input": "import numpy as np\narr1 = np.arange(100)\narr2 = np.zeros(10)\narr3 = np.ones(10)\narr4 = np.empty((10,2))\narr5 = np.arange(4,dtype='f')\narr6 = np.ones(4, dtype='b')\nprint arr2",
     "language": "python",
     "metadata": {},
     "outputs": [
      {
       "output_type": "stream",
       "stream": "stdout",
       "text": "[ 0.  0.  0.  0.  0.  0.  0.  0.  0.  0.]\n"
      }
     ],
     "prompt_number": 16
    },
    {
     "cell_type": "code",
     "collapsed": false,
     "input": "import numpy as np\na = np.linspace(1,100,10)\nalog = np.logspace(1,3,10)\nprint \"a = \", a\nb = np.array(([1,2,3,4],[8,7,6,5]))\nprint \"b = \", b\nc = np.zeros((2,5))\nprint \"c = \", c\nrows = b[1,:]\nprint \"1st row of b = \", rows\ncols = a[:,[0,2]]\nprint \"0-th and 2nd cols of a = \", cols\nprint \"Indexing by a condition: \", a[a>40]\nprint \"Return indices = \", np.where(a>40)\na[a>80] = 0.\nprint \"Chopped a = \", a\nd = a # numpy assignes arrays by reference (it's logical to save cpu and memory)\na[4]=100\nprint \"d = \", d\nd =a.copy()\na[2] = 200\nprint a\nprint d",
     "language": "python",
     "metadata": {},
     "outputs": [
      {
       "output_type": "stream",
       "stream": "stdout",
       "text": "a =  [   1.   12.   23.   34.   45.   56.   67.   78.   89.  100.]\nb =  [[1 2 3 4]\n [8 7 6 5]]\nc =  [[ 0.  0.  0.  0.  0.]\n [ 0.  0.  0.  0.  0.]]\n1st row of b =  [8 7 6 5]\n0-th and 2nd cols of a =  [  1.  23.]\nIndexing by a condition:  [  45.   56.   67.   78.   89.  100.]\nReturn indices =  (array([4, 5, 6, 7, 8, 9]),)\nChopped a =  [  1.  12.  23.  34.  45.  56.  67.  78.   0.   0.]\nd =  [   1.   12.   23.   34.  100.   56.   67.   78.    0.    0.]\n[   1.   12.  200.   34.  100.   56.   67.   78.    0.    0.]\n[   1.   12.   23.   34.  100.   56.   67.   78.    0.    0.]\n"
      }
     ],
     "prompt_number": 17
    },
    {
     "cell_type": "code",
     "collapsed": false,
     "input": "a = np.array([1, 2])\nprint a\nb = a.copy()\nb[1] = 100\nprint a\nprint b",
     "language": "python",
     "metadata": {},
     "outputs": [
      {
       "output_type": "stream",
       "stream": "stdout",
       "text": "[1 2]\n[1 2]\n[  1 100]\n"
      }
     ],
     "prompt_number": 19
    },
    {
     "cell_type": "code",
     "collapsed": false,
     "input": "a_classic = [ 1, 2, 3 ]\nb_classic = [ 4, 5, 6 ]\nprint a_classic + b_classic\n\n\nimport numpy as np\na = np.array([a_classic])\nb = np.array([b_classic])\n# element-wise operation wherever possible\nprint a + b\n\n# broadcasting\nprint b+1\nprint b+np.array(([1],[10]))",
     "language": "python",
     "metadata": {},
     "outputs": [
      {
       "output_type": "stream",
       "stream": "stdout",
       "text": "[1, 2, 3, 4, 5, 6]\n[[5 7 9]]\n[[5 6 7]]\n[[ 5  6  7]\n [14 15 16]]\n"
      }
     ],
     "prompt_number": 20
    },
    {
     "cell_type": "code",
     "collapsed": false,
     "input": "a = np.array([[1,2],[3,4]])\na.sum(axis=1)",
     "language": "python",
     "metadata": {},
     "outputs": [
      {
       "output_type": "pyout",
       "prompt_number": 31,
       "text": "array([3, 7])"
      }
     ],
     "prompt_number": 31
    },
    {
     "cell_type": "code",
     "collapsed": false,
     "input": "import numpy as np\nm = np.random.rand(4,3)\nprint m\nprint m.ndim\nprint m.shape\nresh_m = m.reshape(2,6) # super fast in numpy\nprint resh_m\nprint m.transpose() # super fast in numpy\nprint resh_m.shape",
     "language": "python",
     "metadata": {},
     "outputs": [
      {
       "output_type": "stream",
       "stream": "stdout",
       "text": "[[ 0.14182556  0.0302959   0.85199208]\n [ 0.11480943  0.96746841  0.88281529]\n [ 0.30995725  0.12597787  0.97871215]\n [ 0.35007762  0.02552443  0.18316245]]\n2\n(4, 3)\n[[ 0.14182556  0.0302959   0.85199208  0.11480943  0.96746841  0.88281529]\n [ 0.30995725  0.12597787  0.97871215  0.35007762  0.02552443  0.18316245]]\n[[ 0.14182556  0.11480943  0.30995725  0.35007762]\n [ 0.0302959   0.96746841  0.12597787  0.02552443]\n [ 0.85199208  0.88281529  0.97871215  0.18316245]]\n(2, 6)\n"
      }
     ],
     "prompt_number": 33
    },
    {
     "cell_type": "code",
     "collapsed": false,
     "input": "x = np.array([[1, 2, 3], [4, 5, 6], [7, 8, 9]], dtype=np.int8)\nprint x.strides # byte offset = 3*row + 1*col\nprint x.transpose().strides # byte offset = 1*row + 3*col\nstr(x.data)",
     "language": "python",
     "metadata": {},
     "outputs": [
      {
       "output_type": "stream",
       "stream": "stdout",
       "text": "(3, 1)\n(1, 3)\n"
      },
      {
       "output_type": "pyout",
       "prompt_number": 34,
       "text": "'\\x01\\x02\\x03\\x04\\x05\\x06\\x07\\x08\\t'"
      }
     ],
     "prompt_number": 34
    },
    {
     "cell_type": "code",
     "collapsed": false,
     "input": "x = np.array([[1, 2, 3], [4, 5, 6], [7, 8, 9]], dtype=np.int16, order='C')\nprint x.strides\n# Need to jump 6 bytes to find the next row\n# Need to jump 2 bytes to find the next column\nstr(x.data)",
     "language": "python",
     "metadata": {},
     "outputs": []
    },
    {
     "cell_type": "code",
     "collapsed": false,
     "input": "y = np.array(x, order='F')\nprint y.strides\nstr(y.data)",
     "language": "python",
     "metadata": {},
     "outputs": []
    },
    {
     "cell_type": "code",
     "collapsed": false,
     "input": "import timeit # Keep in mind that Python Numpy (like C) stores arrays in rows, operations per row are __faster__ than per column\nsetup = '''\nimport numpy as np\nm = np.random.rand(1000,1000)\n'''\nprint \"Column-wise:\", timeit.Timer('m[:,1].sum()', setup=setup).timeit(), \"s\"\nprint \"Row-wise:\", timeit.Timer('m[1,:].sum()', setup=setup).timeit(), \"s\"",
     "language": "python",
     "metadata": {},
     "outputs": [
      {
       "output_type": "stream",
       "stream": "stdout",
       "text": "Column-wise: "
      },
      {
       "output_type": "stream",
       "stream": "stdout",
       "text": "18.2499730587 s\nRow-wise: "
      },
      {
       "output_type": "stream",
       "stream": "stdout",
       "text": "9.30766701698 s\n"
      }
     ],
     "prompt_number": 35
    },
    {
     "cell_type": "code",
     "collapsed": false,
     "input": "#Naive matrix-matrix multiplication: 1264 s (1000x1000 doubles)\ndef dot_naive(a,b,N):\n  nrows, ncols = N, N\n  c = np.zeros((nrows, ncols), dtype='f8')\n  for row in xrange(nrows):\n    for col in xrange(ncols):\n      for i in xrange(nrows):\n        c[row,col] += a[row,i] * b[i,col]\n  return c\n    \nN = 100\na = np.random.rand(N,N)\nb = np.random.rand(N,N)\n%timeit dot_naive(a,b,N)",
     "language": "python",
     "metadata": {},
     "outputs": [
      {
       "output_type": "stream",
       "stream": "stdout",
       "text": "1 loops, best of 3: 1.65 s per loop\n"
      }
     ],
     "prompt_number": 36
    },
    {
     "cell_type": "code",
     "collapsed": false,
     "input": "import numpy as np\n\n#Vectorized matrix-matrix multiplication: 20 s (64x faster)\ndef dot(a,b, N=100):\n  nrows, ncols = N, N\n  c = np.empty((nrows, ncols), dtype='f8')\n  for row in xrange(nrows):\n    for col in xrange(ncols):\n      c[row, col] = np.sum(a[row] * b[:,col])\n  return c\n\n%timeit dot(a,b)",
     "language": "python",
     "metadata": {},
     "outputs": [
      {
       "output_type": "stream",
       "stream": "stdout",
       "text": "1 loops, best of 3: 153 ms per loop\n"
      }
     ],
     "prompt_number": 37
    },
    {
     "cell_type": "code",
     "collapsed": false,
     "input": "def dot_numpy(a,b):\n    c = np.dot(a,b)\n    return c\n\n%timeit dot(a,b)",
     "language": "python",
     "metadata": {},
     "outputs": [
      {
       "output_type": "stream",
       "stream": "stdout",
       "text": "1 loops, best of 3: 150 ms per loop\n"
      }
     ],
     "prompt_number": 38
    },
    {
     "cell_type": "code",
     "collapsed": false,
     "input": "np.savetxt(\"datafile.dat\",b.transpose()[:,0:2])\nx, y = np.loadtxt(\"datafile.dat\", unpack = True)\n\nimport matplotlib.pyplot as plt\nplt.plot(sort(x),y**3,\"o:\")\nplt.show()",
     "language": "python",
     "metadata": {},
     "outputs": [
      {
       "output_type": "display_data",
       "png": "[encoded data removed]",
       "text": "<matplotlib.figure.Figure at 0x10cefb4d0>"
      }
     ],
     "prompt_number": 39
    },
    {
     "cell_type": "code",
     "collapsed": false,
     "input": "# copy\nimport numpy as np\na = np.zeros(3)\nb = a # reference, changing values in b changes a\na_view = a[1:4] # view, changing c changes elements [1:4] of a\nc = np.zeros(3)\nd = c.copy() # true copy of subarray\nb[0] = 100\nd[0] = 200\nprint a\nprint b\nprint c\nprint d",
     "language": "python",
     "metadata": {},
     "outputs": []
    },
    {
     "cell_type": "code",
     "collapsed": false,
     "input": "a = np.arange(10).reshape(5,2)\nprint a\nprint a.ravel()",
     "language": "python",
     "metadata": {},
     "outputs": [
      {
       "output_type": "stream",
       "stream": "stdout",
       "text": "[[0 1]\n [2 3]\n [4 5]\n [6 7]\n [8 9]]\n[0 1 2 3 4 5 6 7 8 9]\n"
      }
     ],
     "prompt_number": 40
    },
    {
     "cell_type": "code",
     "collapsed": false,
     "input": "mat1 = np.array([[1, 2, 3], [4, 5, 6]])\nmat2 = np.array([[7, 8, 9], [10, 11, 12]])\nnp.concatenate((mat1, mat2))",
     "language": "python",
     "metadata": {},
     "outputs": [
      {
       "output_type": "pyout",
       "prompt_number": 41,
       "text": "array([[ 1,  2,  3],\n       [ 4,  5,  6],\n       [ 7,  8,  9],\n       [10, 11, 12]])"
      }
     ],
     "prompt_number": 41
    },
    {
     "cell_type": "code",
     "collapsed": false,
     "input": "np.concatenate((mat1, mat2), axis=1)",
     "language": "python",
     "metadata": {},
     "outputs": [
      {
       "output_type": "pyout",
       "prompt_number": 42,
       "text": "array([[ 1,  2,  3,  7,  8,  9],\n       [ 4,  5,  6, 10, 11, 12]])"
      }
     ],
     "prompt_number": 42
    },
    {
     "cell_type": "code",
     "collapsed": false,
     "input": "np.split(mat1, 3, axis=1)",
     "language": "python",
     "metadata": {},
     "outputs": [
      {
       "output_type": "pyout",
       "prompt_number": 43,
       "text": "[array([[1],\n       [4]]), array([[2],\n       [5]]), array([[3],\n       [6]])]"
      }
     ],
     "prompt_number": 43
    },
    {
     "cell_type": "code",
     "collapsed": false,
     "input": "def derivative():\n    arr = np.arange(1000)\n    dif = np.zeros(999, int)\n    for i in range(1, len(arr)):\n        dif[i-1] = arr[i]-arr[i-1]\n    return dif\n%timeit x=derivative()",
     "language": "python",
     "metadata": {},
     "outputs": [
      {
       "output_type": "stream",
       "stream": "stdout",
       "text": "1000 loops, best of 3: 889 \u00b5s per loop\n"
      }
     ],
     "prompt_number": 44
    },
    {
     "cell_type": "code",
     "collapsed": false,
     "input": "import numpy as np\ndef derivative_numpy():\n    arr = np.arange(1000)\n    dif = arr[1:]-arr[:1]\n    return dif\n%timeit x=derivative_numpy()",
     "language": "python",
     "metadata": {},
     "outputs": [
      {
       "output_type": "stream",
       "stream": "stdout",
       "text": "100000 loops, best of 3: 8.35 \u00b5s per loop\n"
      }
     ],
     "prompt_number": 45
    },
    {
     "cell_type": "code",
     "collapsed": false,
     "input": "# indexing\nx = np.arange(10,1,-1)\nprint x\nprint x[np.array([3, 3, 1, 8])]\nprint x > 4\nprint x[ x>4 ] # Boolean mask arrays",
     "language": "python",
     "metadata": {},
     "outputs": []
    },
    {
     "cell_type": "code",
     "collapsed": false,
     "input": "# Truly masked array\nimport numpy.ma as ma\nx = np.array([1,2,3,-1,5])\nm = x < 0\nmx = ma.masked_array(x, mask=m)\nprint mx\nprint x.mean()\nprint mx.mean()",
     "language": "python",
     "metadata": {},
     "outputs": [
      {
       "output_type": "stream",
       "stream": "stdout",
       "text": "[1 2 3 -- 5]\n2.0\n2.75\n"
      }
     ],
     "prompt_number": 46
    },
    {
     "cell_type": "code",
     "collapsed": false,
     "input": "a = np.arange(10)\na[::-1]",
     "language": "python",
     "metadata": {},
     "outputs": [
      {
       "output_type": "pyout",
       "prompt_number": 52,
       "text": "array([9, 8, 7, 6, 5, 4, 3, 2, 1, 0])"
      }
     ],
     "prompt_number": 52
    },
    {
     "cell_type": "markdown",
     "metadata": {},
     "source": "##Regression, fitting"
    },
    {
     "cell_type": "code",
     "collapsed": false,
     "input": "# polynomial fitting\nx = np.array([0.0, 1.0, 2.0, 3.0,  4.0,  5.0])\ny = np.array([0.0, 0.8, 0.9, 0.1, -0.8, -1.0])\nz = np.polyfit(x, y, 3)\nprint z\np = np.poly1d(z) # z[0]*x**0 + z[1]*x**1 + z[2]*x**2  \nprint p(0.5)\np30 = np.poly1d(np.polyfit(x, y, 30)) # over-estimating the polynom degree",
     "language": "python",
     "metadata": {},
     "outputs": [
      {
       "output_type": "stream",
       "stream": "stdout",
       "text": "[ 0.08703704 -0.81349206  1.69312169 -0.03968254]\n0.614384920635\n"
      },
      {
       "output_type": "stream",
       "stream": "stderr",
       "text": "/Library/Python/2.7/site-packages/numpy-1.8.0.dev_bbcfcf6_20130307-py2.7-macosx-10.8-intel.egg/numpy/lib/polynomial.py:587: RankWarning: Polyfit may be poorly conditioned\n  warnings.warn(msg, RankWarning)\n"
      }
     ],
     "prompt_number": 53
    },
    {
     "cell_type": "code",
     "collapsed": false,
     "input": "import matplotlib.pyplot as plt\nxp = np.linspace(-2, 6, 100)\nplt.plot(x, y, '.', xp, p(xp), '-', xp, p30(xp), '--')\nplt.ylim(-2,2)\nplt.show()",
     "language": "python",
     "metadata": {},
     "outputs": [
      {
       "output_type": "display_data",
       "png": "[encoded data removed]",
       "text": "<matplotlib.figure.Figure at 0x10ceff110>"
      }
     ],
     "prompt_number": 54
    },
    {
     "cell_type": "code",
     "collapsed": false,
     "input": "import numpy as np\nx = np.arange(-20,20)\ny = 0.5*x**3 + 1.5*x**2 - 2.5*x + 69 + np.random.normal(scale=200,size=len(x))\nfit = np.polyfit(x,y,3)\ny_new = np.polyval(fit,x)\nplot(x,y,'b-')\nplot(x,y_new,'r-')",
     "language": "python",
     "metadata": {},
     "outputs": [
      {
       "output_type": "pyout",
       "prompt_number": 57,
       "text": "[<matplotlib.lines.Line2D at 0x10cee0c10>]"
      },
      {
       "output_type": "display_data",
       "png": "[encoded data removed]",
       "text": "<matplotlib.figure.Figure at 0x10cee0710>"
      }
     ],
     "prompt_number": 57
    },
    {
     "cell_type": "code",
     "collapsed": false,
     "input": "import numpy as np\nimport matplotlib.pyplot as plt\nfrom scipy import optimize\n\ndef gaussian(B,x):\n    ''' Returns the gaussian function for B=m,stdev,max,offset '''\n    return B[3]+B[2]/(B[1]*np.sqrt(2*np.pi))*np.exp(-((x-B[0])**2/(2.*B[1]**2)))\n\ndef errfunc(p,x,y):\n   return y-gaussian(p,x)\n\nx = np.arange(-2,2,0.01)\n# parameters of our gaussian\np = [0.5,0.55,1.5,0.5]\ny = gaussian(p,x) + np.random.normal(scale=0.02,size=len(x))\n\n# initial estimate of parameters \np0 = [1., 1., 1., 1.]\nfit = optimize.leastsq(errfunc,p0,args=(x,y))\n\nplt.plot(x,y,'b-')\nplt.plot(x,gaussian(fit[0],x),'r-')\nplt.show()",
     "language": "python",
     "metadata": {},
     "outputs": [
      {
       "output_type": "display_data",
       "png": "[encoded data removed]",
       "text": "<matplotlib.figure.Figure at 0x10ca54a90>"
      }
     ],
     "prompt_number": 58
    },
    {
     "cell_type": "code",
     "collapsed": false,
     "input": "from scipy import polyfit\nimport pylab as plt\nfrom numpy import *\n\ndata = loadtxt(\"data.txt\")\nxdata,ydata = data[:,0],data[:,1]\n\n\nx_d,y_d = log10(xdata),log10(ydata)\npolycoef = polyfit(x_d, y_d, 1)\nyfit = 10**( polycoef[0]*x_d+polycoef[1] )\n\n\nplt.subplot(111)\nplt.loglog(xdata,ydata,'.k',xdata,yfit,'-r')\nplt.show()",
     "language": "python",
     "metadata": {},
     "outputs": [
      {
       "ename": "IOError",
       "evalue": "[Errno 2] No such file or directory: 'data.txt'",
       "output_type": "pyerr",
       "traceback": [
        "\u001b[0;31m---------------------------------------------------------------------------\u001b[0m\n\u001b[0;31mIOError\u001b[0m                                   Traceback (most recent call last)",
        "\u001b[0;32m<ipython-input-59-419171d0796e>\u001b[0m in \u001b[0;36m<module>\u001b[0;34m()\u001b[0m\n\u001b[1;32m      3\u001b[0m \u001b[0;32mfrom\u001b[0m \u001b[0mnumpy\u001b[0m \u001b[0;32mimport\u001b[0m \u001b[0;34m*\u001b[0m\u001b[0;34m\u001b[0m\u001b[0m\n\u001b[1;32m      4\u001b[0m \u001b[0;34m\u001b[0m\u001b[0m\n\u001b[0;32m----> 5\u001b[0;31m \u001b[0mdata\u001b[0m \u001b[0;34m=\u001b[0m \u001b[0mloadtxt\u001b[0m\u001b[0;34m(\u001b[0m\u001b[0;34m\"data.txt\"\u001b[0m\u001b[0;34m)\u001b[0m\u001b[0;34m\u001b[0m\u001b[0m\n\u001b[0m\u001b[1;32m      6\u001b[0m \u001b[0mxdata\u001b[0m\u001b[0;34m,\u001b[0m\u001b[0mydata\u001b[0m \u001b[0;34m=\u001b[0m \u001b[0mdata\u001b[0m\u001b[0;34m[\u001b[0m\u001b[0;34m:\u001b[0m\u001b[0;34m,\u001b[0m\u001b[0;36m0\u001b[0m\u001b[0;34m]\u001b[0m\u001b[0;34m,\u001b[0m\u001b[0mdata\u001b[0m\u001b[0;34m[\u001b[0m\u001b[0;34m:\u001b[0m\u001b[0;34m,\u001b[0m\u001b[0;36m1\u001b[0m\u001b[0;34m]\u001b[0m\u001b[0;34m\u001b[0m\u001b[0m\n\u001b[1;32m      7\u001b[0m \u001b[0;34m\u001b[0m\u001b[0m\n",
        "\u001b[0;32m/Library/Python/2.7/site-packages/numpy-1.8.0.dev_bbcfcf6_20130307-py2.7-macosx-10.8-intel.egg/numpy/lib/npyio.pyc\u001b[0m in \u001b[0;36mloadtxt\u001b[0;34m(fname, dtype, comments, delimiter, converters, skiprows, usecols, unpack, ndmin)\u001b[0m\n\u001b[1;32m    715\u001b[0m                 \u001b[0mfh\u001b[0m \u001b[0;34m=\u001b[0m \u001b[0miter\u001b[0m\u001b[0;34m(\u001b[0m\u001b[0mbz2\u001b[0m\u001b[0;34m.\u001b[0m\u001b[0mBZ2File\u001b[0m\u001b[0;34m(\u001b[0m\u001b[0mfname\u001b[0m\u001b[0;34m)\u001b[0m\u001b[0;34m)\u001b[0m\u001b[0;34m\u001b[0m\u001b[0m\n\u001b[1;32m    716\u001b[0m             \u001b[0;32melse\u001b[0m\u001b[0;34m:\u001b[0m\u001b[0;34m\u001b[0m\u001b[0m\n\u001b[0;32m--> 717\u001b[0;31m                 \u001b[0mfh\u001b[0m \u001b[0;34m=\u001b[0m \u001b[0miter\u001b[0m\u001b[0;34m(\u001b[0m\u001b[0mopen\u001b[0m\u001b[0;34m(\u001b[0m\u001b[0mfname\u001b[0m\u001b[0;34m,\u001b[0m \u001b[0;34m'U'\u001b[0m\u001b[0;34m)\u001b[0m\u001b[0;34m)\u001b[0m\u001b[0;34m\u001b[0m\u001b[0m\n\u001b[0m\u001b[1;32m    718\u001b[0m         \u001b[0;32melse\u001b[0m\u001b[0;34m:\u001b[0m\u001b[0;34m\u001b[0m\u001b[0m\n\u001b[1;32m    719\u001b[0m             \u001b[0mfh\u001b[0m \u001b[0;34m=\u001b[0m \u001b[0miter\u001b[0m\u001b[0;34m(\u001b[0m\u001b[0mfname\u001b[0m\u001b[0;34m)\u001b[0m\u001b[0;34m\u001b[0m\u001b[0m\n",
        "\u001b[0;31mIOError\u001b[0m: [Errno 2] No such file or directory: 'data.txt'"
       ]
      }
     ],
     "prompt_number": 59
    },
    {
     "cell_type": "code",
     "collapsed": false,
     "input": "\npolycoef, _ = scipy.optimize.curve_fit(lambda x, a, b: a*x+b, x_d, y_d, sigma=yerror)\n",
     "language": "python",
     "metadata": {},
     "outputs": []
    },
    {
     "cell_type": "code",
     "collapsed": false,
     "input": " ",
     "language": "python",
     "metadata": {},
     "outputs": [
      {
       "ename": "ValueError",
       "evalue": "too many values to unpack",
       "output_type": "pyerr",
       "traceback": [
        "\u001b[0;31m---------------------------------------------------------------------------\u001b[0m\n\u001b[0;31mValueError\u001b[0m                                Traceback (most recent call last)",
        "\u001b[0;32m<ipython-input-61-729445ae78bd>\u001b[0m in \u001b[0;36m<module>\u001b[0;34m()\u001b[0m\n\u001b[0;32m----> 1\u001b[0;31m \u001b[0mabc\u001b[0m\u001b[0;34m,\u001b[0m \u001b[0m_\u001b[0m \u001b[0;34m=\u001b[0m \u001b[0;34m[\u001b[0m\u001b[0ma\u001b[0m\u001b[0;34m,\u001b[0m\u001b[0mb\u001b[0m\u001b[0;34m,\u001b[0m\u001b[0mc\u001b[0m\u001b[0;34m]\u001b[0m\u001b[0;34m\u001b[0m\u001b[0m\n\u001b[0m",
        "\u001b[0;31mValueError\u001b[0m: too many values to unpack"
       ]
      }
     ],
     "prompt_number": 61
    },
    {
     "cell_type": "code",
     "collapsed": false,
     "input": "",
     "language": "python",
     "metadata": {},
     "outputs": []
    },
    {
     "cell_type": "code",
     "collapsed": false,
     "input": "from scipy import optimize\nfrom numpy import *\n\nclass Parameter:\n    def __init__(self, value):\n            self.value = value\n\n    def set(self, value):\n            self.value = value\n\n    def __call__(self):\n            return self.value\n\ndef fit(function, parameters, y, x = None):\n    def f(params):\n        i = 0\n        for p in parameters:\n            p.set(params[i])\n            i += 1\n        return y - function(x)\n\n    if x is None: x = arange(y.shape[0])\n    p = [param() for param in parameters]\n    optimize.leastsq(f, p)",
     "language": "python",
     "metadata": {},
     "outputs": []
    },
    {
     "cell_type": "code",
     "collapsed": false,
     "input": "from pylab import *\nfrom scipy import *\n\n# if you experience problem \"optimize not found\", try to uncomment the following line. The problem is present at least at Ubuntu Lucid python scipy package\n# from scipy import optimize\n\n# Generate data points with noise\nnum_points = 150\nTx = linspace(5., 8., num_points)\nTy = Tx\n\ntX = 11.86*cos(2*pi/0.81*Tx-1.32) + 0.64*Tx+4*((0.5-rand(num_points))*exp(2*rand(num_points)**2))\ntY = -32.14*cos(2*pi/0.8*Ty-1.94) + 0.15*Ty+7*((0.5-rand(num_points))*exp(2*rand(num_points)**2))",
     "language": "python",
     "metadata": {},
     "outputs": []
    },
    {
     "cell_type": "code",
     "collapsed": false,
     "input": "# Fit the first set\nfitfunc = lambda p, x: p[0]*cos(2*pi/p[1]*x+p[2]) + p[3]*x # Target function\nerrfunc = lambda p, x, y: fitfunc(p, x) - y # Distance to the target function\np0 = [-15., 0.8, 0., -1.] # Initial guess for the parameters\np1, success = optimize.leastsq(errfunc, p0[:], args=(Tx, tX))\n\ntime = linspace(Tx.min(), Tx.max(), 100)\nplot(Tx, tX, \"ro\", time, fitfunc(p1, time), \"r-\") # Plot of the data and the fit\n\n# Fit the second set\np0 = [-15., 0.8, 0., -1.]\np2,success = optimize.leastsq(errfunc, p0[:], args=(Ty, tY))\n\ntime = linspace(Ty.min(), Ty.max(), 100)\nplot(Ty, tY, \"b^\", time, fitfunc(p2, time), \"b-\")\n\n# Legend the plot\ntitle(\"Oscillations in the compressed trap\")\nxlabel(\"time [ms]\")\nylabel(\"displacement [um]\")\nlegend(('x position', 'x fit', 'y position', 'y fit'))\n\nax = axes()\n\ntext(0.8, 0.07,\n     'x freq :  %.3f kHz \\n y freq :  %.3f kHz' % (1/p1[1],1/p2[1]),\n     fontsize=16,\n     horizontalalignment='center',\n     verticalalignment='center',\n     transform=ax.transAxes)\n\nshow()",
     "language": "python",
     "metadata": {},
     "outputs": []
    },
    {
     "cell_type": "code",
     "collapsed": false,
     "input": "# Target function\nfitfunc = lambda T, p, x: p[0]*cos(2*pi/T*x+p[1]) + p[2]*x\n# Initial guess for the first set's parameters\np1 = r_[-15., 0., -1.]\n# Initial guess for the second set's parameters\np2 = r_[-15., 0., -1.]\n# Initial guess for the common period\nT = 0.8\n# Vector of the parameters to fit, it contains all the parameters of the problem, and the period of the oscillation is not there twice !\np = r_[T, p1, p2]\n# Cost function of the fit, compare it to the previous example.\nerrfunc = lambda p, x1, y1, x2, y2: r_[\n                fitfunc(p[0], p[1:4], x1) - y1,\n                fitfunc(p[0], p[4:7], x2) - y2\n            ]\n# This time we need to pass the two sets of data, there are thus four \"args\".\np,success = optimize.leastsq(errfunc, p, args=(Tx, tX, Ty, tY))\ntime = linspace(Tx.min(), Tx.max(), 100) # Plot of the first data and the fit\nplot(Tx, tX, \"ro\", time, fitfunc(p[0], p[1:4], time),\"r-\")\n\n# Plot of the second data and the fit\ntime = linspace(Ty.min(), Ty.max(),100)\nplot(Ty, tY, \"b^\", time, fitfunc(p[0], p[4:7], time),\"b-\")\n\n# Legend the plot\ntitle(\"Oscillations in the compressed trap\")\nxlabel(\"time [ms]\")\nylabel(\"displacement [um]\")\nlegend(('x position', 'x fit', 'y position', 'y fit'))\n\nax = axes()\n\ntext(0.8, 0.07,\n     'x freq :  %.3f kHz' % (1/p[0]),\n     fontsize=16,\n     horizontalalignment='center',\n     verticalalignment='center',\n     transform=ax.transAxes)\n\nshow()",
     "language": "python",
     "metadata": {},
     "outputs": []
    },
    {
     "cell_type": "code",
     "collapsed": false,
     "input": "# giving initial parameters\nmu = Parameter(7)\nsigma = Parameter(3)\nheight = Parameter(5)\n\n# define your function:\ndef f(x): return height() * exp(-((x-mu())/sigma())**2)\n\n# fit! (given that data is an array with the data to fit)\nfit(f, [mu, sigma, height], data)",
     "language": "python",
     "metadata": {},
     "outputs": []
    },
    {
     "cell_type": "code",
     "collapsed": false,
     "input": "import numpy\n\ndef my_product_refactor(numbers):\n    \"\"\" Compute the product of a sequence of numbers. \"\"\"\n    return numpy.prod(numbers)\n\nmy_product_refactor(numpy.array([1,2,3,4]))",
     "language": "python",
     "metadata": {},
     "outputs": [
      {
       "output_type": "pyout",
       "prompt_number": 63,
       "text": "24"
      }
     ],
     "prompt_number": 63
    },
    {
     "cell_type": "code",
     "collapsed": false,
     "input": "# vectorize function\n# a convenient transformation to vectors, not necessarily increase of performance\n\nimport math\nimport numpy as np\ng = lambda x: math.exp(-x**2)*math.sin(x)\na = np.linspace(0,1,1000)\nb = g(a)",
     "language": "python",
     "metadata": {},
     "outputs": [
      {
       "ename": "TypeError",
       "evalue": "only length-1 arrays can be converted to Python scalars",
       "output_type": "pyerr",
       "traceback": [
        "\u001b[0;31m---------------------------------------------------------------------------\u001b[0m\n\u001b[0;31mTypeError\u001b[0m                                 Traceback (most recent call last)",
        "\u001b[0;32m<ipython-input-64-a00d33ab398c>\u001b[0m in \u001b[0;36m<module>\u001b[0;34m()\u001b[0m\n\u001b[1;32m      6\u001b[0m \u001b[0mg\u001b[0m \u001b[0;34m=\u001b[0m \u001b[0;32mlambda\u001b[0m \u001b[0mx\u001b[0m\u001b[0;34m:\u001b[0m \u001b[0mmath\u001b[0m\u001b[0;34m.\u001b[0m\u001b[0mexp\u001b[0m\u001b[0;34m(\u001b[0m\u001b[0;34m-\u001b[0m\u001b[0mx\u001b[0m\u001b[0;34m**\u001b[0m\u001b[0;36m2\u001b[0m\u001b[0;34m)\u001b[0m\u001b[0;34m*\u001b[0m\u001b[0mmath\u001b[0m\u001b[0;34m.\u001b[0m\u001b[0msin\u001b[0m\u001b[0;34m(\u001b[0m\u001b[0mx\u001b[0m\u001b[0;34m)\u001b[0m\u001b[0;34m\u001b[0m\u001b[0m\n\u001b[1;32m      7\u001b[0m \u001b[0ma\u001b[0m \u001b[0;34m=\u001b[0m \u001b[0mnp\u001b[0m\u001b[0;34m.\u001b[0m\u001b[0mlinspace\u001b[0m\u001b[0;34m(\u001b[0m\u001b[0;36m0\u001b[0m\u001b[0;34m,\u001b[0m\u001b[0;36m1\u001b[0m\u001b[0;34m,\u001b[0m\u001b[0;36m1000\u001b[0m\u001b[0;34m)\u001b[0m\u001b[0;34m\u001b[0m\u001b[0m\n\u001b[0;32m----> 8\u001b[0;31m \u001b[0mb\u001b[0m \u001b[0;34m=\u001b[0m \u001b[0mg\u001b[0m\u001b[0;34m(\u001b[0m\u001b[0ma\u001b[0m\u001b[0;34m)\u001b[0m\u001b[0;34m\u001b[0m\u001b[0m\n\u001b[0m",
        "\u001b[0;32m<ipython-input-64-a00d33ab398c>\u001b[0m in \u001b[0;36m<lambda>\u001b[0;34m(x)\u001b[0m\n\u001b[1;32m      4\u001b[0m \u001b[0;32mimport\u001b[0m \u001b[0mmath\u001b[0m\u001b[0;34m\u001b[0m\u001b[0m\n\u001b[1;32m      5\u001b[0m \u001b[0;32mimport\u001b[0m \u001b[0mnumpy\u001b[0m \u001b[0;32mas\u001b[0m \u001b[0mnp\u001b[0m\u001b[0;34m\u001b[0m\u001b[0m\n\u001b[0;32m----> 6\u001b[0;31m \u001b[0mg\u001b[0m \u001b[0;34m=\u001b[0m \u001b[0;32mlambda\u001b[0m \u001b[0mx\u001b[0m\u001b[0;34m:\u001b[0m \u001b[0mmath\u001b[0m\u001b[0;34m.\u001b[0m\u001b[0mexp\u001b[0m\u001b[0;34m(\u001b[0m\u001b[0;34m-\u001b[0m\u001b[0mx\u001b[0m\u001b[0;34m**\u001b[0m\u001b[0;36m2\u001b[0m\u001b[0;34m)\u001b[0m\u001b[0;34m*\u001b[0m\u001b[0mmath\u001b[0m\u001b[0;34m.\u001b[0m\u001b[0msin\u001b[0m\u001b[0;34m(\u001b[0m\u001b[0mx\u001b[0m\u001b[0;34m)\u001b[0m\u001b[0;34m\u001b[0m\u001b[0m\n\u001b[0m\u001b[1;32m      7\u001b[0m \u001b[0ma\u001b[0m \u001b[0;34m=\u001b[0m \u001b[0mnp\u001b[0m\u001b[0;34m.\u001b[0m\u001b[0mlinspace\u001b[0m\u001b[0;34m(\u001b[0m\u001b[0;36m0\u001b[0m\u001b[0;34m,\u001b[0m\u001b[0;36m1\u001b[0m\u001b[0;34m,\u001b[0m\u001b[0;36m1000\u001b[0m\u001b[0;34m)\u001b[0m\u001b[0;34m\u001b[0m\u001b[0m\n\u001b[1;32m      8\u001b[0m \u001b[0mb\u001b[0m \u001b[0;34m=\u001b[0m \u001b[0mg\u001b[0m\u001b[0;34m(\u001b[0m\u001b[0ma\u001b[0m\u001b[0;34m)\u001b[0m\u001b[0;34m\u001b[0m\u001b[0m\n",
        "\u001b[0;31mTypeError\u001b[0m: only length-1 arrays can be converted to Python scalars"
       ]
      }
     ],
     "prompt_number": 64
    },
    {
     "cell_type": "code",
     "collapsed": false,
     "input": "from math import exp\nfrom numpy import array\nexp(array([10,30]))",
     "language": "python",
     "metadata": {},
     "outputs": [
      {
       "ename": "TypeError",
       "evalue": "only length-1 arrays can be converted to Python scalars",
       "output_type": "pyerr",
       "traceback": [
        "\u001b[0;31m---------------------------------------------------------------------------\u001b[0m\n\u001b[0;31mTypeError\u001b[0m                                 Traceback (most recent call last)",
        "\u001b[0;32m<ipython-input-66-3ebc90887476>\u001b[0m in \u001b[0;36m<module>\u001b[0;34m()\u001b[0m\n\u001b[1;32m      1\u001b[0m \u001b[0;32mfrom\u001b[0m \u001b[0mmath\u001b[0m \u001b[0;32mimport\u001b[0m \u001b[0mexp\u001b[0m\u001b[0;34m\u001b[0m\u001b[0m\n\u001b[1;32m      2\u001b[0m \u001b[0;32mfrom\u001b[0m \u001b[0mnumpy\u001b[0m \u001b[0;32mimport\u001b[0m \u001b[0marray\u001b[0m\u001b[0;34m\u001b[0m\u001b[0m\n\u001b[0;32m----> 3\u001b[0;31m \u001b[0mexp\u001b[0m\u001b[0;34m(\u001b[0m\u001b[0marray\u001b[0m\u001b[0;34m(\u001b[0m\u001b[0;34m[\u001b[0m\u001b[0;36m10\u001b[0m\u001b[0;34m,\u001b[0m\u001b[0;36m30\u001b[0m\u001b[0;34m]\u001b[0m\u001b[0;34m)\u001b[0m\u001b[0;34m)\u001b[0m\u001b[0;34m\u001b[0m\u001b[0m\n\u001b[0m",
        "\u001b[0;31mTypeError\u001b[0m: only length-1 arrays can be converted to Python scalars"
       ]
      }
     ],
     "prompt_number": 66
    },
    {
     "cell_type": "code",
     "collapsed": false,
     "input": "vg = np.vectorize(g)\nc = vg(a)\ntype(c)",
     "language": "python",
     "metadata": {},
     "outputs": [
      {
       "output_type": "pyout",
       "prompt_number": 69,
       "text": "numpy.ndarray"
      }
     ],
     "prompt_number": 69
    },
    {
     "cell_type": "code",
     "collapsed": false,
     "input": "# numpy provides vectorized functions\nimport numpy as np\ng = lambda x: np.exp(-x**2)*np.sin(x)\na = np.linspace(0,1,1000)\nb = g(a)",
     "language": "python",
     "metadata": {},
     "outputs": []
    },
    {
     "cell_type": "code",
     "collapsed": false,
     "input": "# remove non-a-numbers (NaN)\nimport numpy as np\nx = np.log([ -1, 1, 2 ])\nprint x\nprint x [~np.isnan(x)]",
     "language": "python",
     "metadata": {},
     "outputs": [
      {
       "output_type": "stream",
       "stream": "stdout",
       "text": "[        nan  0.          0.69314718]\n[ 0.          0.69314718]\n"
      },
      {
       "output_type": "stream",
       "stream": "stderr",
       "text": "-c:3: RuntimeWarning: invalid value encountered in log\n"
      }
     ],
     "prompt_number": 70
    },
    {
     "cell_type": "markdown",
     "metadata": {},
     "source": "# Exersises 3:\n\n1) import numpy.linalg, explore its capabilities and try to calculate determinant, eigenvalues of a matrix\n\n2) modify the fitting example, trying to guess the initial parameter of the fit from the data"
    },
    {
     "cell_type": "markdown",
     "metadata": {},
     "source": "- - -\n- - -"
    },
    {
     "cell_type": "code",
     "collapsed": false,
     "input": "xx = np.random.random(10)\nxx.mean()\nxx[ np.argmax(xx) ]\nnp.max(xx)\nxx.max()",
     "language": "python",
     "metadata": {},
     "outputs": [
      {
       "output_type": "pyout",
       "prompt_number": 77,
       "text": "0.84378296923299023"
      }
     ],
     "prompt_number": 77
    },
    {
     "cell_type": "code",
     "collapsed": false,
     "input": "import numpy as np\n\na = np.array([[3,1], [1,2]])\nb = np.array([9,8])\nx = np.linalg.solve(a, b)\nprint x\n\n#Check that the solution is correct:\n(np.dot(a, x) == b).all()\n",
     "language": "python",
     "metadata": {},
     "outputs": []
    },
    {
     "cell_type": "code",
     "collapsed": false,
     "input": "",
     "language": "python",
     "metadata": {},
     "outputs": []
    }
   ],
   "metadata": {}
  }
 ]
}